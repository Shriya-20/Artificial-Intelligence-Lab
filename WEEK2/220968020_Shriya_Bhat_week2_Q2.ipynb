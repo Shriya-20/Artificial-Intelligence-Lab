{
 "cells": [
  {
   "cell_type": "markdown",
   "id": "1ef3b3e2",
   "metadata": {
    "id": "1ef3b3e2"
   },
   "source": [
    "### Name: Shriya Bhat\n",
    "### Reg: 220968020\n",
    "### Batch: A1\n",
    "### Week-2 Q2"
   ]
  },
  {
   "cell_type": "markdown",
   "id": "f190e4a6",
   "metadata": {
    "id": "f190e4a6"
   },
   "source": [
    " Use the CartPole-v0 environment, the status of the system is specified by an \n",
    "“observation” of four parameters (x, v, θ, ω), where  \n",
    "x: the horizontal position of the cart (positive means to the right)  \n",
    "v: the horizontal velocity of the cart (positive means moving to the right)  \n",
    "θ: the angle between the pole and the vertical position (positive means clock wise)  \n",
    "ω: angular velocity of the pole (positive means rotating clock-wise)  \n",
    "Use gym and write the following policies for 100 episodes :  \n",
    "a. Theta policy: if the pole is tilted to the left (θ<0), then push the cart to the left and vice \n",
    "versa.  \n",
    "b. Omega policy : when the pole is moving away from the vertical position (ω<0) then push \n",
    "the cart to the left and vice versa.  \n",
    "c. Plot the cumulative rewards (based on steps) for each policy , write down the average \n",
    "rewards with standard deviation.  \n",
    "d. Comment on performance of policies. "
   ]
  },
  {
   "cell_type": "code",
   "execution_count": 7,
   "id": "e470a6de",
   "metadata": {},
   "outputs": [
    {
     "name": "stdout",
     "output_type": "stream",
     "text": [
      "Requirement already satisfied: gymnasium in c:\\users\\shriya bhat\\anaconda3\\lib\\site-packages (1.0.0)\n",
      "Requirement already satisfied: numpy>=1.21.0 in c:\\users\\shriya bhat\\anaconda3\\lib\\site-packages (from gymnasium) (1.24.3)\n",
      "Requirement already satisfied: cloudpickle>=1.2.0 in c:\\users\\shriya bhat\\anaconda3\\lib\\site-packages (from gymnasium) (2.2.1)\n",
      "Requirement already satisfied: typing-extensions>=4.3.0 in c:\\users\\shriya bhat\\anaconda3\\lib\\site-packages (from gymnasium) (4.5.0)\n",
      "Requirement already satisfied: farama-notifications>=0.0.1 in c:\\users\\shriya bhat\\anaconda3\\lib\\site-packages (from gymnasium) (0.0.4)\n"
     ]
    }
   ],
   "source": [
    "!pip install gymnasium"
   ]
  },
  {
   "cell_type": "code",
   "execution_count": 8,
   "id": "2b501414",
   "metadata": {
    "id": "2b501414"
   },
   "outputs": [],
   "source": [
    "import gymnasium as gym\n",
    "import time"
   ]
  },
  {
   "cell_type": "code",
   "execution_count": 9,
   "id": "be7b09ac",
   "metadata": {
    "id": "be7b09ac"
   },
   "outputs": [],
   "source": [
    "env=gym.make(\"CartPole-v1\",render_mode='human')"
   ]
  },
  {
   "cell_type": "code",
   "execution_count": 10,
   "id": "cc9ffb90",
   "metadata": {
    "id": "cc9ffb90",
    "outputId": "1c17c604-e695-4885-cd66-0e47d54191bc"
   },
   "outputs": [
    {
     "name": "stdout",
     "output_type": "stream",
     "text": [
      "Discrete(2)\n"
     ]
    }
   ],
   "source": [
    "print(env.action_space)"
   ]
  },
  {
   "cell_type": "code",
   "execution_count": 11,
   "id": "08fcc7dc",
   "metadata": {
    "id": "08fcc7dc",
    "outputId": "3c42ec0d-0a03-4735-a996-267f29c3af53"
   },
   "outputs": [
    {
     "name": "stdout",
     "output_type": "stream",
     "text": [
      "Box([-4.8               -inf -0.41887903        -inf], [4.8               inf 0.41887903        inf], (4,), float32)\n"
     ]
    }
   ],
   "source": [
    "print(env.observation_space)"
   ]
  },
  {
   "cell_type": "markdown",
   "id": "0e220eff",
   "metadata": {},
   "source": [
    "- Theta policy"
   ]
  },
  {
   "cell_type": "code",
   "execution_count": 12,
   "id": "27d65c01",
   "metadata": {
    "id": "27d65c01",
    "outputId": "b1cc74d7-4a54-458d-e6d0-0a26fe1b2b13"
   },
   "outputs": [
    {
     "name": "stdout",
     "output_type": "stream",
     "text": [
      "Theta policy-episode1:Reward=51.0\n",
      "Theta policy-episode2:Reward=40.0\n",
      "Theta policy-episode3:Reward=54.0\n",
      "Theta policy-episode4:Reward=35.0\n",
      "Theta policy-episode5:Reward=51.0\n",
      "Theta policy-episode6:Reward=40.0\n",
      "Theta policy-episode7:Reward=52.0\n",
      "Theta policy-episode8:Reward=42.0\n",
      "Theta policy-episode9:Reward=42.0\n",
      "Theta policy-episode10:Reward=40.0\n",
      "Theta policy-episode11:Reward=41.0\n",
      "Theta policy-episode12:Reward=57.0\n",
      "Theta policy-episode13:Reward=38.0\n",
      "Theta policy-episode14:Reward=38.0\n",
      "Theta policy-episode15:Reward=39.0\n",
      "Theta policy-episode16:Reward=48.0\n",
      "Theta policy-episode17:Reward=60.0\n",
      "Theta policy-episode18:Reward=39.0\n",
      "Theta policy-episode19:Reward=42.0\n",
      "Theta policy-episode20:Reward=35.0\n",
      "Theta policy-episode21:Reward=45.0\n",
      "Theta policy-episode22:Reward=34.0\n",
      "Theta policy-episode23:Reward=41.0\n",
      "Theta policy-episode24:Reward=46.0\n",
      "Theta policy-episode25:Reward=56.0\n",
      "Theta policy-episode26:Reward=32.0\n",
      "Theta policy-episode27:Reward=45.0\n",
      "Theta policy-episode28:Reward=41.0\n",
      "Theta policy-episode29:Reward=41.0\n",
      "Theta policy-episode30:Reward=48.0\n",
      "Theta policy-episode31:Reward=45.0\n",
      "Theta policy-episode32:Reward=40.0\n",
      "Theta policy-episode33:Reward=47.0\n",
      "Theta policy-episode34:Reward=42.0\n",
      "Theta policy-episode35:Reward=42.0\n",
      "Theta policy-episode36:Reward=50.0\n",
      "Theta policy-episode37:Reward=49.0\n",
      "Theta policy-episode38:Reward=58.0\n",
      "Theta policy-episode39:Reward=32.0\n",
      "Theta policy-episode40:Reward=41.0\n",
      "Theta policy-episode41:Reward=34.0\n",
      "Theta policy-episode42:Reward=49.0\n",
      "Theta policy-episode43:Reward=24.0\n",
      "Theta policy-episode44:Reward=39.0\n",
      "Theta policy-episode45:Reward=51.0\n",
      "Theta policy-episode46:Reward=52.0\n",
      "Theta policy-episode47:Reward=51.0\n",
      "Theta policy-episode48:Reward=51.0\n",
      "Theta policy-episode49:Reward=47.0\n",
      "Theta policy-episode50:Reward=40.0\n",
      "Theta policy-episode51:Reward=59.0\n",
      "Theta policy-episode52:Reward=41.0\n",
      "Theta policy-episode53:Reward=51.0\n",
      "Theta policy-episode54:Reward=35.0\n",
      "Theta policy-episode55:Reward=58.0\n",
      "Theta policy-episode56:Reward=31.0\n",
      "Theta policy-episode57:Reward=36.0\n",
      "Theta policy-episode58:Reward=37.0\n",
      "Theta policy-episode59:Reward=51.0\n",
      "Theta policy-episode60:Reward=42.0\n",
      "Theta policy-episode61:Reward=41.0\n",
      "Theta policy-episode62:Reward=34.0\n",
      "Theta policy-episode63:Reward=57.0\n",
      "Theta policy-episode64:Reward=36.0\n",
      "Theta policy-episode65:Reward=25.0\n",
      "Theta policy-episode66:Reward=44.0\n",
      "Theta policy-episode67:Reward=44.0\n",
      "Theta policy-episode68:Reward=37.0\n",
      "Theta policy-episode69:Reward=60.0\n",
      "Theta policy-episode70:Reward=26.0\n",
      "Theta policy-episode71:Reward=47.0\n",
      "Theta policy-episode72:Reward=37.0\n",
      "Theta policy-episode73:Reward=42.0\n",
      "Theta policy-episode74:Reward=58.0\n",
      "Theta policy-episode75:Reward=47.0\n",
      "Theta policy-episode76:Reward=48.0\n",
      "Theta policy-episode77:Reward=51.0\n",
      "Theta policy-episode78:Reward=41.0\n",
      "Theta policy-episode79:Reward=40.0\n",
      "Theta policy-episode80:Reward=52.0\n",
      "Theta policy-episode81:Reward=34.0\n",
      "Theta policy-episode82:Reward=45.0\n",
      "Theta policy-episode83:Reward=34.0\n",
      "Theta policy-episode84:Reward=24.0\n",
      "Theta policy-episode85:Reward=38.0\n",
      "Theta policy-episode86:Reward=45.0\n",
      "Theta policy-episode87:Reward=39.0\n",
      "Theta policy-episode88:Reward=50.0\n",
      "Theta policy-episode89:Reward=40.0\n",
      "Theta policy-episode90:Reward=48.0\n",
      "Theta policy-episode91:Reward=52.0\n",
      "Theta policy-episode92:Reward=31.0\n",
      "Theta policy-episode93:Reward=35.0\n",
      "Theta policy-episode94:Reward=61.0\n",
      "Theta policy-episode95:Reward=31.0\n",
      "Theta policy-episode96:Reward=42.0\n",
      "Theta policy-episode97:Reward=58.0\n",
      "Theta policy-episode98:Reward=45.0\n",
      "Theta policy-episode99:Reward=58.0\n",
      "Theta policy-episode100:Reward=52.0\n"
     ]
    }
   ],
   "source": [
    "num_eps=100\n",
    "theta_rewards=[]\n",
    "\n",
    "\n",
    "for episode in range(num_eps):\n",
    "    obs=env.reset()\n",
    "    obs=obs[0]\n",
    "    total_reward=0\n",
    "    done=False\n",
    "\n",
    "    while not done:\n",
    "        env.render()\n",
    "        theta=obs[2]\n",
    "        action=0 if theta<0 else 1\n",
    "        result = env.step(action)  \n",
    "        obs,reward,done,info,extra_info=result\n",
    "        total_reward+=reward\n",
    "\n",
    "    theta_rewards.append(total_reward)\n",
    "    print(f\"Theta policy-episode{episode+1}:Reward={total_reward}\")\n",
    "    time.sleep(1)\n"
   ]
  },
  {
   "cell_type": "markdown",
   "id": "53d680b4",
   "metadata": {
    "id": "53d680b4"
   },
   "source": [
    "-  b.Omega policy "
   ]
  },
  {
   "cell_type": "code",
   "execution_count": 14,
   "id": "ecaaf9ef",
   "metadata": {
    "id": "ecaaf9ef",
    "outputId": "7128ae5b-9352-48b0-d55c-8a4bd83d60c2"
   },
   "outputs": [
    {
     "name": "stdout",
     "output_type": "stream",
     "text": [
      "Omega policy-episode1:Reward=206.0\n",
      "Omega policy-episode2:Reward=256.0\n",
      "Omega policy-episode3:Reward=148.0\n",
      "Omega policy-episode4:Reward=145.0\n",
      "Omega policy-episode5:Reward=131.0\n",
      "Omega policy-episode6:Reward=230.0\n",
      "Omega policy-episode7:Reward=267.0\n",
      "Omega policy-episode8:Reward=265.0\n",
      "Omega policy-episode9:Reward=230.0\n",
      "Omega policy-episode10:Reward=221.0\n",
      "Omega policy-episode11:Reward=244.0\n",
      "Omega policy-episode12:Reward=170.0\n",
      "Omega policy-episode13:Reward=210.0\n",
      "Omega policy-episode14:Reward=208.0\n",
      "Omega policy-episode15:Reward=219.0\n",
      "Omega policy-episode16:Reward=180.0\n",
      "Omega policy-episode17:Reward=184.0\n",
      "Omega policy-episode18:Reward=185.0\n",
      "Omega policy-episode19:Reward=275.0\n",
      "Omega policy-episode20:Reward=223.0\n",
      "Omega policy-episode21:Reward=250.0\n",
      "Omega policy-episode22:Reward=211.0\n",
      "Omega policy-episode23:Reward=158.0\n",
      "Omega policy-episode24:Reward=194.0\n",
      "Omega policy-episode25:Reward=181.0\n",
      "Omega policy-episode26:Reward=303.0\n",
      "Omega policy-episode27:Reward=182.0\n",
      "Omega policy-episode28:Reward=174.0\n",
      "Omega policy-episode29:Reward=146.0\n",
      "Omega policy-episode30:Reward=209.0\n",
      "Omega policy-episode31:Reward=256.0\n",
      "Omega policy-episode32:Reward=163.0\n",
      "Omega policy-episode33:Reward=145.0\n",
      "Omega policy-episode34:Reward=207.0\n",
      "Omega policy-episode35:Reward=151.0\n",
      "Omega policy-episode36:Reward=221.0\n",
      "Omega policy-episode37:Reward=251.0\n",
      "Omega policy-episode38:Reward=155.0\n",
      "Omega policy-episode39:Reward=172.0\n",
      "Omega policy-episode40:Reward=194.0\n",
      "Omega policy-episode41:Reward=254.0\n",
      "Omega policy-episode42:Reward=175.0\n",
      "Omega policy-episode43:Reward=145.0\n",
      "Omega policy-episode44:Reward=196.0\n",
      "Omega policy-episode45:Reward=142.0\n",
      "Omega policy-episode46:Reward=156.0\n",
      "Omega policy-episode47:Reward=207.0\n",
      "Omega policy-episode48:Reward=135.0\n",
      "Omega policy-episode49:Reward=232.0\n",
      "Omega policy-episode50:Reward=255.0\n",
      "Omega policy-episode51:Reward=193.0\n",
      "Omega policy-episode52:Reward=237.0\n",
      "Omega policy-episode53:Reward=153.0\n",
      "Omega policy-episode54:Reward=207.0\n",
      "Omega policy-episode55:Reward=235.0\n",
      "Omega policy-episode56:Reward=150.0\n",
      "Omega policy-episode57:Reward=196.0\n",
      "Omega policy-episode58:Reward=154.0\n",
      "Omega policy-episode59:Reward=231.0\n",
      "Omega policy-episode60:Reward=156.0\n",
      "Omega policy-episode61:Reward=154.0\n",
      "Omega policy-episode62:Reward=200.0\n",
      "Omega policy-episode63:Reward=227.0\n",
      "Omega policy-episode64:Reward=153.0\n",
      "Omega policy-episode65:Reward=205.0\n",
      "Omega policy-episode66:Reward=268.0\n",
      "Omega policy-episode67:Reward=275.0\n",
      "Omega policy-episode68:Reward=245.0\n",
      "Omega policy-episode69:Reward=215.0\n",
      "Omega policy-episode70:Reward=151.0\n",
      "Omega policy-episode71:Reward=168.0\n",
      "Omega policy-episode72:Reward=171.0\n",
      "Omega policy-episode73:Reward=215.0\n",
      "Omega policy-episode74:Reward=224.0\n",
      "Omega policy-episode75:Reward=208.0\n",
      "Omega policy-episode76:Reward=151.0\n",
      "Omega policy-episode77:Reward=152.0\n",
      "Omega policy-episode78:Reward=196.0\n",
      "Omega policy-episode79:Reward=191.0\n",
      "Omega policy-episode80:Reward=235.0\n",
      "Omega policy-episode81:Reward=152.0\n",
      "Omega policy-episode82:Reward=237.0\n",
      "Omega policy-episode83:Reward=157.0\n",
      "Omega policy-episode84:Reward=147.0\n",
      "Omega policy-episode85:Reward=270.0\n",
      "Omega policy-episode86:Reward=234.0\n",
      "Omega policy-episode87:Reward=154.0\n",
      "Omega policy-episode88:Reward=151.0\n",
      "Omega policy-episode89:Reward=235.0\n",
      "Omega policy-episode90:Reward=161.0\n",
      "Omega policy-episode91:Reward=156.0\n",
      "Omega policy-episode92:Reward=154.0\n",
      "Omega policy-episode93:Reward=231.0\n",
      "Omega policy-episode94:Reward=178.0\n",
      "Omega policy-episode95:Reward=141.0\n",
      "Omega policy-episode96:Reward=163.0\n",
      "Omega policy-episode97:Reward=357.0\n",
      "Omega policy-episode98:Reward=206.0\n",
      "Omega policy-episode99:Reward=216.0\n",
      "Omega policy-episode100:Reward=222.0\n"
     ]
    }
   ],
   "source": [
    "num_eps=100\n",
    "\n",
    "omega_rewards=[]\n",
    "\n",
    "for episode in range(num_eps):\n",
    "    obs=env.reset()\n",
    "    obs=obs[0]\n",
    "    total_reward=0\n",
    "    done=False\n",
    "\n",
    "    while not done:\n",
    "        env.render()\n",
    "        omega=obs[3]\n",
    "        action=0 if omega<0 else 1\n",
    "        result = env.step(action)  \n",
    "        obs,reward,done,info,extra_info=result\n",
    "        total_reward+=reward\n",
    "\n",
    "\n",
    "    omega_rewards.append(total_reward)\n",
    "    print(f\"Omega policy-episode{episode+1}:Reward={total_reward}\")\n",
    "    time.sleep(1)\n"
   ]
  },
  {
   "cell_type": "markdown",
   "id": "06f36596",
   "metadata": {
    "id": "06f36596"
   },
   "source": [
    "- Plot the cumulative rewards (based on steps) for each policy\n",
    "- write down the average rewards with standard deviation."
   ]
  },
  {
   "cell_type": "code",
   "execution_count": 15,
   "id": "6b0c623e",
   "metadata": {
    "id": "6b0c623e",
    "outputId": "1a4a8ed6-bf78-4cca-eb45-012b9b5b048d"
   },
   "outputs": [
    {
     "data": {
      "image/png": "[encoded data removed]",
      "text/plain": [
       "<Figure size 1000x600 with 1 Axes>"
      ]
     },
     "metadata": {},
     "output_type": "display_data"
    }
   ],
   "source": [
    "import numpy as np\n",
    "import matplotlib.pyplot as plt\n",
    "\n",
    "plt.figure(figsize=(10, 6))\n",
    "plt.plot(np.cumsum(theta_rewards),label=\"Theta\")\n",
    "plt.plot(np.cumsum(omega_rewards),label=\"Omega\")\n",
    "plt.xlabel(\"Episodes\")\n",
    "plt.ylabel(\"Cumulative Rewards\")\n",
    "plt.title(\"Cumulative Reward for Theta and Omega Policies\")\n",
    "plt.legend()\n",
    "plt.show()"
   ]
  },
  {
   "cell_type": "markdown",
   "id": "7db7337a",
   "metadata": {
    "id": "7db7337a"
   },
   "source": [
    "##### d.Comment on performance of policies."
   ]
  },
  {
   "cell_type": "markdown",
   "id": "26bd5873",
   "metadata": {
    "id": "8b5b2982"
   },
   "source": [
    "- The Theta Policy, which is based on the tilt of the pole, exhibits greater variability in rewards, with some episodes yielding lower rewards and others higher. This indicates that it is less stable in maintaining the pole's balance.\n",
    "\n",
    "- On the other hand, the Omega Policy, which relies on angular velocity, delivers more stable and higher rewards, suggesting better performance in keeping the pole steady.\n",
    "\n",
    "- The cumulative rewards graph demonstrates that the Omega policy consistently outperforms the Theta policy. By integrating both angle and velocity in a more sophisticated policy, the performance of the Theta policy could be enhanced."
   ]
  },
  {
   "cell_type": "code",
   "execution_count": null,
   "id": "64827de2",
   "metadata": {},
   "outputs": [],
   "source": []
  }
 ],
 "metadata": {
  "colab": {
   "provenance": []
  },
  "kernelspec": {
   "display_name": "Python 3 (ipykernel)",
   "language": "python",
   "name": "python3"
  },
  "language_info": {
   "codemirror_mode": {
    "name": "ipython",
    "version": 3
   },
   "file_extension": ".py",
   "mimetype": "text/x-python",
   "name": "python",
   "nbconvert_exporter": "python",
   "pygments_lexer": "ipython3",
   "version": "3.11.4"
  }
 },
 "nbformat": 4,
 "nbformat_minor": 5
}
