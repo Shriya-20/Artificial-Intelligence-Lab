{
 "cells": [
  {
   "cell_type": "code",
   "execution_count": null,
   "id": "002c3659",
   "metadata": {},
   "outputs": [],
   "source": []
  },
  {
   "cell_type": "code",
   "execution_count": 3,
   "id": "754812a9",
   "metadata": {},
   "outputs": [],
   "source": [
    "import csv\n",
    "import sys\n",
    "\n",
    "#from util import Node, StackFrontier, QueueFrontier\n",
    "\n",
    "# Maps names to a set of corresponding person_ids\n",
    "names = {}\n",
    "\n",
    "# Maps person_ids to a dictionary of: name, birth, movies (a set of movie_ids)\n",
    "people = {}\n",
    "\n",
    "# Maps movie_ids to a dictionary of: title, year, stars (a set of person_ids)\n",
    "movies = {}\n",
    "\n",
    "\n",
    "def load_data(directory):\n",
    "    \"\"\"\n",
    "    Load data from CSV files into memory.\n",
    "    \"\"\"\n",
    "    # Load people\n",
    "    with open(f\"{directory}/people.csv\", encoding=\"utf-8\") as f:\n",
    "        reader = csv.DictReader(f)\n",
    "        for row in reader:\n",
    "            people[row[\"id\"]] = {\n",
    "                \"name\": row[\"name\"],\n",
    "                \"birth\": row[\"birth\"],\n",
    "                \"movies\": set()\n",
    "            }\n",
    "            if row[\"name\"].lower() not in names:\n",
    "                names[row[\"name\"].lower()] = {row[\"id\"]}\n",
    "            else:\n",
    "                names[row[\"name\"].lower()].add(row[\"id\"])\n",
    "\n",
    "    # Load movies\n",
    "    with open(f\"{directory}/movies.csv\", encoding=\"utf-8\") as f:\n",
    "        reader = csv.DictReader(f)\n",
    "        for row in reader:\n",
    "            movies[row[\"id\"]] = {\n",
    "                \"title\": row[\"title\"],\n",
    "                \"year\": row[\"year\"],\n",
    "                \"stars\": set()\n",
    "            }\n",
    "\n",
    "    # Load stars\n",
    "    with open(f\"{directory}/stars.csv\", encoding=\"utf-8\") as f:\n",
    "        reader = csv.DictReader(f)\n",
    "        for row in reader:\n",
    "            try:\n",
    "                people[row[\"person_id\"]][\"movies\"].add(row[\"movie_id\"])\n",
    "                movies[row[\"movie_id\"]][\"stars\"].add(row[\"person_id\"])\n",
    "            except KeyError:\n",
    "                pass\n",
    "\n",
    "\n"
   ]
  },
  {
   "cell_type": "code",
   "execution_count": 5,
   "id": "c7ecb4e7",
   "metadata": {},
   "outputs": [
    {
     "data": {
      "text/plain": [
       "{'112384': {'title': 'Apollo 13',\n",
       "  'year': '1995',\n",
       "  'stars': {'102', '158', '200', '641'}},\n",
       " '104257': {'title': 'A Few Good Men',\n",
       "  'year': '1992',\n",
       "  'stars': {'102', '129', '193', '197'}},\n",
       " '109830': {'title': 'Forrest Gump',\n",
       "  'year': '1994',\n",
       "  'stars': {'158', '398', '641', '705'}},\n",
       " '93779': {'title': 'The Princess Bride',\n",
       "  'year': '1987',\n",
       "  'stars': {'144', '1597', '1697', '705'}},\n",
       " '95953': {'title': 'Rain Man',\n",
       "  'year': '1988',\n",
       "  'stars': {'129', '163', '420', '596520'}}}"
      ]
     },
     "execution_count": 5,
     "metadata": {},
     "output_type": "execute_result"
    }
   ],
   "source": [
    "directory =\"./small\"\n",
    "load_data(directory)\n"
   ]
  },
  {
   "cell_type": "code",
   "execution_count": 6,
   "id": "58d0e4b1",
   "metadata": {},
   "outputs": [
    {
     "data": {
      "text/plain": [
       "{'112384': {'title': 'Apollo 13',\n",
       "  'year': '1995',\n",
       "  'stars': {'102', '158', '200', '641'}},\n",
       " '104257': {'title': 'A Few Good Men',\n",
       "  'year': '1992',\n",
       "  'stars': {'102', '129', '193', '197'}},\n",
       " '109830': {'title': 'Forrest Gump',\n",
       "  'year': '1994',\n",
       "  'stars': {'158', '398', '641', '705'}},\n",
       " '93779': {'title': 'The Princess Bride',\n",
       "  'year': '1987',\n",
       "  'stars': {'144', '1597', '1697', '705'}},\n",
       " '95953': {'title': 'Rain Man',\n",
       "  'year': '1988',\n",
       "  'stars': {'129', '163', '420', '596520'}}}"
      ]
     },
     "execution_count": 6,
     "metadata": {},
     "output_type": "execute_result"
    }
   ],
   "source": [
    "movies"
   ]
  },
  {
   "cell_type": "code",
   "execution_count": 7,
   "id": "a14e11f1",
   "metadata": {},
   "outputs": [
    {
     "data": {
      "text/plain": [
       "{'102': {'name': 'Kevin Bacon',\n",
       "  'birth': '1958',\n",
       "  'movies': {'104257', '112384'}},\n",
       " '129': {'name': 'Tom Cruise', 'birth': '1962', 'movies': {'104257', '95953'}},\n",
       " '144': {'name': 'Cary Elwes', 'birth': '1962', 'movies': {'93779'}},\n",
       " '158': {'name': 'Tom Hanks', 'birth': '1956', 'movies': {'109830', '112384'}},\n",
       " '1597': {'name': 'Mandy Patinkin', 'birth': '1952', 'movies': {'93779'}},\n",
       " '163': {'name': 'Dustin Hoffman', 'birth': '1937', 'movies': {'95953'}},\n",
       " '1697': {'name': 'Chris Sarandon', 'birth': '1942', 'movies': {'93779'}},\n",
       " '193': {'name': 'Demi Moore', 'birth': '1962', 'movies': {'104257'}},\n",
       " '197': {'name': 'Jack Nicholson', 'birth': '1937', 'movies': {'104257'}},\n",
       " '200': {'name': 'Bill Paxton', 'birth': '1955', 'movies': {'112384'}},\n",
       " '398': {'name': 'Sally Field', 'birth': '1946', 'movies': {'109830'}},\n",
       " '420': {'name': 'Valeria Golino', 'birth': '1965', 'movies': {'95953'}},\n",
       " '596520': {'name': 'Gerald R. Molen', 'birth': '1935', 'movies': {'95953'}},\n",
       " '641': {'name': 'Gary Sinise',\n",
       "  'birth': '1955',\n",
       "  'movies': {'109830', '112384'}},\n",
       " '705': {'name': 'Robin Wright',\n",
       "  'birth': '1966',\n",
       "  'movies': {'109830', '93779'}},\n",
       " '914612': {'name': 'Emma Watson', 'birth': '1990', 'movies': set()}}"
      ]
     },
     "execution_count": 7,
     "metadata": {},
     "output_type": "execute_result"
    }
   ],
   "source": [
    "people"
   ]
  },
  {
   "cell_type": "code",
   "execution_count": 8,
   "id": "9c84d631",
   "metadata": {},
   "outputs": [
    {
     "data": {
      "text/plain": [
       "{'kevin bacon': {'102'},\n",
       " 'tom cruise': {'129'},\n",
       " 'cary elwes': {'144'},\n",
       " 'tom hanks': {'158'},\n",
       " 'mandy patinkin': {'1597'},\n",
       " 'dustin hoffman': {'163'},\n",
       " 'chris sarandon': {'1697'},\n",
       " 'demi moore': {'193'},\n",
       " 'jack nicholson': {'197'},\n",
       " 'bill paxton': {'200'},\n",
       " 'sally field': {'398'},\n",
       " 'valeria golino': {'420'},\n",
       " 'gerald r. molen': {'596520'},\n",
       " 'gary sinise': {'641'},\n",
       " 'robin wright': {'705'},\n",
       " 'emma watson': {'914612'}}"
      ]
     },
     "execution_count": 8,
     "metadata": {},
     "output_type": "execute_result"
    }
   ],
   "source": [
    "names"
   ]
  },
  {
   "cell_type": "code",
   "execution_count": 20,
   "id": "ce9e9abd",
   "metadata": {},
   "outputs": [
    {
     "name": "stdout",
     "output_type": "stream",
     "text": [
      "Loading data...\n",
      "Data loaded.\n",
      "Name: kevin bacon\n",
      "Name: tom cruise\n",
      "Path dound:  [('104257', '129')]\n",
      "1 degrees of separation.\n",
      "1: Kevin Bacon and Tom Cruise starred in A Few Good Men\n"
     ]
    }
   ],
   "source": [
    "from collections import deque\n",
    "\n",
    "def main():\n",
    "    \n",
    "    directory =\"./small\"\n",
    "\n",
    "    # Load data from files into memory\n",
    "    print(\"Loading data...\")\n",
    "    load_data(directory)\n",
    "    print(\"Data loaded.\")\n",
    "\n",
    "    source = person_id_for_name(input(\"Name: \"))\n",
    "    if source is None:\n",
    "        sys.exit(\"Person not found.\")\n",
    "    target = person_id_for_name(input(\"Name: \"))\n",
    "    if target is None:\n",
    "        sys.exit(\"Person not found.\")\n",
    "\n",
    "    path = shortest_path(source, target)\n",
    "\n",
    "    if path is None:\n",
    "        print(\"Not connected.\")\n",
    "    else:\n",
    "        degrees = len(path)\n",
    "        print(f\"{degrees} degrees of separation.\")\n",
    "        path = [(None, source)] + path\n",
    "        for i in range(degrees):\n",
    "            person1 = people[path[i][1]][\"name\"]\n",
    "            person2 = people[path[i + 1][1]][\"name\"]\n",
    "            movie = movies[path[i + 1][0]][\"title\"]\n",
    "            print(f\"{i + 1}: {person1} and {person2} starred in {movie}\")\n",
    "\n",
    "\n",
    "def shortest_path(source, target):\n",
    "    \"\"\"\n",
    "    Returns the shortest list of (movie_id, person_id) pairs\n",
    "    that connect the source to the target.\n",
    "\n",
    "    If no possible path, returns None.\n",
    "    \"\"\"\n",
    "    frontier=deque([(source,[])])\n",
    "    e=set()\n",
    "    while frontier:\n",
    "        cur_person,path=frontier.popleft()\n",
    "        e.add(cur_person)\n",
    "        \n",
    "        for m_id,n in neighbors_for_person(cur_person):\n",
    "            if n==target:\n",
    "                path=path+[(m_id,n)]\n",
    "                print(\"Path dound: \",path)\n",
    "                return path\n",
    "            if n not in e and not any(n==node[0] for node in frontier):\n",
    "                frontier.append((n,path+[(m_id,n)]))\n",
    "        print(\"No path fund\")\n",
    "        return None\n",
    "    \n",
    "    \n",
    "\n",
    "\n",
    "def person_id_for_name(name):\n",
    "    \"\"\"\n",
    "    Returns the IMDB id for a person's name,\n",
    "    resolving ambiguities as needed.\n",
    "    \"\"\"\n",
    "    person_ids = list(names.get(name.lower(), set()))\n",
    "    if len(person_ids) == 0:\n",
    "        return None\n",
    "    elif len(person_ids) > 1:\n",
    "        print(f\"Which '{name}'?\")\n",
    "        for person_id in person_ids:\n",
    "            person = people[person_id]\n",
    "            name = person[\"name\"]\n",
    "            birth = person[\"birth\"]\n",
    "            print(f\"ID: {person_id}, Name: {name}, Birth: {birth}\")\n",
    "        try:\n",
    "            person_id = input(\"Intended Person ID: \")\n",
    "            if person_id in person_ids:\n",
    "                return person_id\n",
    "        except ValueError:\n",
    "            pass\n",
    "        return None\n",
    "    else:\n",
    "        return person_ids[0]\n",
    "\n",
    "\n",
    "def neighbors_for_person(person_id):\n",
    "    \"\"\"\n",
    "    Returns (movie_id, person_id) pairs for people\n",
    "    who starred with a given person.\n",
    "    \"\"\"\n",
    "    movie_ids = people[person_id][\"movies\"]\n",
    "    neighbors = set()\n",
    "    for movie_id in movie_ids:\n",
    "        for person_id in movies[movie_id][\"stars\"]:\n",
    "            neighbors.add((movie_id, person_id))\n",
    "    return neighbors\n",
    "\n",
    "\n",
    "if __name__ == \"__main__\":\n",
    "    main()"
   ]
  },
  {
   "cell_type": "code",
   "execution_count": null,
   "id": "b736cefc",
   "metadata": {},
   "outputs": [],
   "source": []
  }
 ],
 "metadata": {
  "kernelspec": {
   "display_name": "Python 3 (ipykernel)",
   "language": "python",
   "name": "python3"
  },
  "language_info": {
   "codemirror_mode": {
    "name": "ipython",
    "version": 3
   },
   "file_extension": ".py",
   "mimetype": "text/x-python",
   "name": "python",
   "nbconvert_exporter": "python",
   "pygments_lexer": "ipython3",
   "version": "3.11.4"
  }
 },
 "nbformat": 4,
 "nbformat_minor": 5
}
