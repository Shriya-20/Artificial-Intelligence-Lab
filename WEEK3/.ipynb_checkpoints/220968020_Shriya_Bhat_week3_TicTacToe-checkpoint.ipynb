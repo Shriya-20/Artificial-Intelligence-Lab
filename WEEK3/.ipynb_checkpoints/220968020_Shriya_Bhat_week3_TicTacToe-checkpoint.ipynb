{
 "cells": [
  {
   "cell_type": "markdown",
   "id": "0ce1e188",
   "metadata": {},
   "source": [
    "###  Name: Shriya Bhat\n",
    "### Reg: 220968020\n",
    "### Class: DSE A1\n",
    "### Week 3"
   ]
  },
  {
   "cell_type": "markdown",
   "id": "912a53b3",
   "metadata": {},
   "source": [
    "- **WEEK 3**: Gaming Agent & Negamax search\n",
    "EasyAI is an artificial intelligence framework for two-players abstract games. Read through the documentation.\n",
    "http://zulko.github.io/easyAI/index.html\n",
    "Write a python program to define and implement a tic-tac-toe game with one human player. Solve the game using the built in algorithms and compare the solutions.\n",
    "- a. `Iterative Deepening`\n",
    "- b. `Depth first search `"
   ]
  },
  {
   "cell_type": "code",
   "execution_count": 3,
   "id": "0578c611",
   "metadata": {},
   "outputs": [
    {
     "name": "stdout",
     "output_type": "stream",
     "text": [
      "Defaulting to user installation because normal site-packages is not writeable\n",
      "Requirement already satisfied: easyAI in c:\\users\\mca\\appdata\\roaming\\python\\python39\\site-packages (2.0.12)\n",
      "Requirement already satisfied: numpy in c:\\users\\mca\\appdata\\roaming\\python\\python39\\site-packages (from easyAI) (1.19.5)\n"
     ]
    }
   ],
   "source": [
    "!pip install easyAI\n"
   ]
  },
  {
   "cell_type": "code",
   "execution_count": 1,
   "id": "61329cb0",
   "metadata": {},
   "outputs": [],
   "source": [
    "# importing the required classes and functions\n",
    "\n",
    "from easyAI import TwoPlayerGame  # Importing the base class for two-player games.simplifies the creation of two-player games, handles turn-taking, player management\n",
    "\n",
    "from easyAI import Human_Player  # This class represents human player, allows for human input during the game\n",
    "\n",
    "from easyAI import AI_Player  #AI_Player: This class represents an AI player to play against the human player.\n",
    "\n",
    "from easyAI import solve_with_iterative_deepening  # Function for solving with Iterative Deepening(It tries different search depths and finds the optimal move for the AI player at each level.)\n",
    "\n",
    "from easyAI import solve_with_depth_first_search  # Function for solving with Depth-First Search.  This algorithm explores the game tree as deeply as possible before backtracking to explore alternative moves.\n",
    "\n",
    "from easyAI.AI import Negamax \n",
    "#A specific search algorithm often used in two-player zero-sum games (like Tic-Tac-Toe).\n",
    "#It is a variation of Minimax.\n",
    "#It simplifies the search logic by using a single evaluation function and negating the score for the opponent."
   ]
  },
  {
   "cell_type": "code",
   "execution_count": 2,
   "id": "72c3af5d",
   "metadata": {},
   "outputs": [],
   "source": [
    "\n",
    "#TicTacToe is the name of our class, and it inherits from TwoPlayerGame.\n",
    "'''TwoPlayerGame(class) already has built-in functionality to handle two-player games, like managing whose turn it is, switching turns, and so on.\n",
    "By inheriting from TwoPlayerGame, TicTacToe gains all the useful features of that class, and we can add our own custom behavior specific to the game of Tic-Tac-Toe.\n",
    "'''\n",
    "class TicTacToe(TwoPlayerGame): \n",
    "    \n",
    "    \"\"\"The board positions are numbered as follows:\n",
    "    1 2 3\n",
    "    4 5 6\n",
    "    7 8 9\n",
    "    \"\"\"\n",
    "    \n",
    "    def __init__(self, players=None): #constructor to initialize game with default values\n",
    "        self.players = players\n",
    "        self.board = [0 for i in range(9)] #initialize board to [0,0,0..\n",
    "        self.current_player = 1  #starts the game with player 1\n",
    "\n",
    "    # returns a list of possible moves current player can make\n",
    "    # Note: enumerate function is used to loop through the list self.board and get both the index and the value of each item in the list.\n",
    "    # enumerate([0, 1, 0]) would return (0, 0), (1, 1), and (2, 0)\n",
    "    def possible_moves(self):\n",
    "        return [i + 1 for i, e in enumerate(self.board) if e == 0]\n",
    "\n",
    "    #to updat board when player makes a move\n",
    "    def make_move(self, move):\n",
    "        self.board[int(move) - 1] = self.current_player\n",
    "\n",
    "    #It’s useful for the AI to explore different options and \"reverse\" moves to see how things would play out.\n",
    "    def unmake_move(self, move): \n",
    "        self.board[int(move) - 1] = 0\n",
    "\n",
    "    def lose(self):\n",
    "        \"\"\" Checks if opponent has won(horizontally,verticaly,diagonally \"\"\"\n",
    "        \n",
    "        '''\n",
    "        # any():checks whether any of the elements in the list are True\n",
    "        return any(\n",
    "            [\n",
    "                all([(self.board[c - 1] == self.opponent_index) for c in line])\n",
    "                for line in [\n",
    "                    [1, 2, 3],\n",
    "                    [4, 5, 6],\n",
    "                    [7, 8, 9], \n",
    "                    \n",
    "                    [1, 4, 7],\n",
    "                    [2, 5, 8],\n",
    "                    [3, 6, 9], \n",
    "                    \n",
    "                    [1, 5, 9],\n",
    "                    [3, 5, 7],\n",
    "                ]\n",
    "            ]\n",
    "        )\n",
    "        '''\n",
    "\n",
    "        # List of all winning lines in the game (horizontals, verticals, diagonals)\n",
    "        winning_lines = [\n",
    "            [1, 2, 3],  \n",
    "            [4, 5, 6], \n",
    "            [7, 8, 9],  \n",
    "            [1, 4, 7],  \n",
    "            [2, 5, 8],  \n",
    "            [3, 6, 9], \n",
    "            [1, 5, 9],  \n",
    "            [3, 5, 7],  \n",
    "        ]\n",
    "\n",
    "        for line in winning_lines:\n",
    "            is_winning_line = True  # Assume this line is a win for the opponent\n",
    "            for c in line:\n",
    "                # Check if the position `c` is occupied by the opponent's mark\n",
    "                if self.board[c - 1] != self.opponent_index:  #1 for Player 1 (\"X\"), 2 for Player 2 (\"O\")\n",
    "                    is_winning_line = False  # If any spot is not occupied by the opponent, that line is not a win\n",
    "                    break  # No need to check line further\n",
    "\n",
    "            if is_winning_line:\n",
    "                return True #opponent has won\n",
    "\n",
    "        # no winning line was found\n",
    "        return False\n",
    "        \n",
    "    #checks if game is over\n",
    "    #no possible moves/board is full/DRAW or GameOver(someone won)/opponent won\n",
    "    def is_over(self):\n",
    "        return (self.possible_moves() == []) or self.lose()\n",
    "\n",
    "    #display current state of board\n",
    "    def show(self):\n",
    "        print(\n",
    "            \"\\n\"\n",
    "            + \"\\n\".join(\n",
    "                [\n",
    "                    \" \".join([[\".\", \"O\", \"X\"][self.board[3 * j + i]] for i in range(3)])\n",
    "                    for j in range(3)\n",
    "                ]\n",
    "            )\n",
    "        )\n",
    "    \n",
    "    #If current player loses, the score is -100 (indicating a loss)\n",
    "    #calculates and returns the score of the current board state, based on the current player.\n",
    "    def scoring(self):\n",
    "        return -100 if self.lose() else 0"
   ]
  },
  {
   "cell_type": "markdown",
   "id": "ac0b64ee",
   "metadata": {},
   "source": [
    "Solving **Tic-Tac-Toe** game using two different search algorithms: `Iterative Deepening` and `Depth First Search (DFS)`."
   ]
  },
  {
   "cell_type": "markdown",
   "id": "467e2eab",
   "metadata": {},
   "source": [
    "- **NOTE**:`Negamax` is an AI algorithm that is used to play the game. It’s similar to Minimax, but simplified to always assume the player wants to maximize their score.\n",
    "The number 9 here represents the `depth` of the search, meaning the AI will **analyze up to 9 moves ahead**. This is a typical setting for Tic-Tac-Toe, since there are only 9 positions on the board."
   ]
  },
  {
   "cell_type": "markdown",
   "id": "37cad896",
   "metadata": {},
   "source": [
    "- game=TicTacToe(players=[AI_Player(ai), Human_Player()])\n",
    "\n",
    "This creates an instance of the TicTacToe game where **Player 1** is controlled by the **AI** (using the Negamax algorithm) and \n",
    "**Player 2** is controlled by the human player.\n",
    "\n",
    "- ai_depths=range(2, 10)\n",
    "\n",
    "This defines the range of depths the AI will use in the search.\n",
    "It will first search up to 2 moves ahead, then up to 3, 4, 5, and so on, all the way up to 9 moves ahead. This is the **key characteristic** of `Iterative Deepening`, it starts with shallow searches and increases the depth gradually, allowing the AI to improve its decisions over time**.\n",
    "\n",
    "`Depth First Search (DFS)`.\n",
    "This algorithm **explores as far as possible down one path before backtracking**. It is typically **more memory-efficient** than breadth-first search, but may not find the best solution as efficiently as other search algorithms like Minimax or Negamax.\n",
    "\n",
    "win_score=100: This is the score the AI/human should aim for in order to win. Typically, in Tic-Tac-Toe, if anyone wins, gets a score of 100, and if anyone loses, they gets -100."
   ]
  },
  {
   "cell_type": "code",
   "execution_count": 3,
   "id": "c2825995",
   "metadata": {},
   "outputs": [],
   "source": [
    "def main(algo):\n",
    "  ai = Negamax(9)\n",
    "  if algo == 'id': #iterative deepening\n",
    "      result = solve_with_iterative_deepening(game=TicTacToe(players=[AI_Player(ai), Human_Player()]), ai_depths=range(2, 10), win_score=100)\n",
    "  elif algo == 'dfs': #dfs\n",
    "      result = solve_with_depth_first_search(game=TicTacToe(players=[AI_Player(ai), Human_Player()]), win_score=100)\n",
    "  else:\n",
    "      print(\"Invalid algorithm specified.\")\n",
    "  return result"
   ]
  },
  {
   "cell_type": "markdown",
   "id": "8321e05f",
   "metadata": {},
   "source": [
    "#### Solution provided by Iterative Deepening.\n"
   ]
  },
  {
   "cell_type": "code",
   "execution_count": 4,
   "id": "7bcdb695",
   "metadata": {},
   "outputs": [
    {
     "name": "stdout",
     "output_type": "stream",
     "text": [
      "d:2, a:0, m:1\n",
      "d:3, a:0, m:1\n",
      "d:4, a:0, m:1\n",
      "d:5, a:0, m:1\n",
      "d:6, a:0, m:1\n",
      "d:7, a:0, m:1\n",
      "d:8, a:0, m:1\n",
      "d:9, a:0, m:1\n",
      "Result:  (0, 9, 1)\n",
      "Time Taken: 0.16s\n"
     ]
    }
   ],
   "source": [
    "import time\n",
    "start = time.time() # :) returns the current time in seconds since the epoch (usually 1 January 1970)\n",
    "id_result = main('id')\n",
    "end = time.time()\n",
    "print('Result: ', id_result)\n",
    "print(str.format('Time Taken: {:.2f}s', end-start))"
   ]
  },
  {
   "cell_type": "markdown",
   "id": "ab2d7f65",
   "metadata": {},
   "source": [
    "d: stands for the depth, meaning how many moves the AI is looking ahead in the game tree.\n",
    "\n",
    "a: represents the evaluation score at that depth. The value 0 suggests that at each depth, the AI is not yet seeing a win or loss at that point in the search. A score of 0 typically means a draw or neutral situation, which indicates that the game isn't over yet and no player is guaranteed to win.\n",
    "\n",
    "m: represents the optimal move at that depth, and the value 1 indicates that the AI considers the move at position 1 (usually the first spot on the board) to be the most optimal move at that depth."
   ]
  },
  {
   "cell_type": "markdown",
   "id": "01fe3c55",
   "metadata": {},
   "source": [
    "**Result**:  (0, 9, 1)\n",
    "\n",
    "0: This indicates the outcome of the game (i.e., the result of the AI’s strategy). A 0 here suggests that the game is expected to end in a draw.\n",
    "\n",
    "9: This indicates the total number of moves that will be made before the game ends. According to this output, it will take 9 moves (since there are 9 spots on the Tic-Tac-Toe board, this is the maximum number of moves the game can have before a draw or win).\n",
    "\n",
    "5 moves by the first player (AI) and 4 moves by the second player (Human), meaning the game goes back and forth until the board is full.\n",
    "1: This indicates the optimal first move for the AI. In this case, the AI should start by placing its mark in position 1 (the first spot on the Tic-Tac-Toe grid).\n",
    "\n",
    "This suggests that the AI, when playing optimally, should start by placing its first move in the top-left corner of the board (position 1), which is a typical choice in many Tic-Tac-Toe strategies, as it leads to more winning opportunities for the AI."
   ]
  },
  {
   "cell_type": "markdown",
   "id": "77c59cc3",
   "metadata": {},
   "source": [
    "#### Solution provided by Depth First Search."
   ]
  },
  {
   "cell_type": "code",
   "execution_count": 5,
   "id": "e1201611",
   "metadata": {},
   "outputs": [
    {
     "name": "stdout",
     "output_type": "stream",
     "text": [
      "Result:  0\n",
      "Time Taken: 0.35s\n"
     ]
    }
   ],
   "source": [
    "import time\n",
    "start = time.time()\n",
    "dfs_result = main('dfs')\n",
    "end = time.time()\n",
    "print('Result: ', dfs_result)\n",
    "print(str.format('Time Taken: {:.2f}s', end-start))"
   ]
  },
  {
   "cell_type": "markdown",
   "id": "097f5e80",
   "metadata": {},
   "source": [
    "**Result**: 0\n",
    "The 0 here indicates the outcome of the game, similar to the previous Iterative Deepening result. A value of 0 generally means that the game will end in a draw. This suggests that based on the Depth First Search (DFS) approach, no player wins the game, and after all possible moves are exhausted, the result will be a draw  :)"
   ]
  },
  {
   "cell_type": "markdown",
   "id": "8208c205",
   "metadata": {},
   "source": [
    "- Time Taken for `Iterative Deepening`: **0.16s**\n",
    "- Time Taken for `DFS`: **0.35s**"
   ]
  },
  {
   "cell_type": "markdown",
   "id": "11bd0109",
   "metadata": {},
   "source": [
    "### We see that the time taken is significantly more for DFS in comparison to Iterative Deepening."
   ]
  },
  {
   "cell_type": "markdown",
   "id": "a7497066",
   "metadata": {},
   "source": [
    "## Comparing DFS and Iterative Deepening\n",
    "\n",
    "### 1. **Search Strategy**\n",
    "- **DFS**: Explores as deep as possible down each branch before backtracking.\n",
    "- **Iterative Deepening (ID)**: Combines the benefits of DFS and BFS by progressively increasing the search depth (starting from depth 1) until the solution is found.\n",
    "\n",
    "### 2. **Memory Usage**\n",
    "- **DFS**: Stores all nodes along the current search path in memory. This can lead to high memory usage and potential stack overflow in large search spaces.\n",
    "- **ID**: Only stores the current path being explored, using much less memory. It avoids storing all possible paths, which helps reduce memory usage significantly.\n",
    "\n",
    "### 3. **Completeness**\n",
    "- **DFS**: Not guaranteed to find a solution if the solution is in a deep branch. May fail in infinite or very deep search spaces.\n",
    "- **ID**: Guaranteed to find the solution if one exists, as it gradually explores all possible depths.\n",
    "\n",
    "### 4. **Time Complexity**\n",
    "- **DFS**: Time complexity is **O(b^m)**, where `b` is the branching factor and `m` is the maximum depth of the search tree.\n",
    "- **ID**: Time complexity is **O(b^d)**, where `b` is the branching factor and `d` is the depth of the shallowest solution.\n",
    "\n",
    "### 5. **Advantages of Iterative Deepening Over DFS**\n",
    "- **Memory Efficiency**: ID uses less memory than DFS, especially in large search spaces.\n",
    "- **Guaranteed Solution**: ID is complete and will always find the solution if it exists, while DFS might miss the solution in deep or infinite spaces.\n",
    "- **Better for Shallow Solutions**: ID is efficient when the solution is shallow and guarantees finding the best solution early.\n",
    "\n",
    "### 6. **Disadvantages of Iterative Deepening Over DFS**\n",
    "- **Repetitive Work**: ID may perform repetitive work, as it searches the same nodes multiple times across different depths. However, this is generally not a problem for small search spaces like Tic-Tac-Toe.\n"
   ]
  },
  {
   "cell_type": "markdown",
   "id": "dd5dfac5",
   "metadata": {},
   "source": [
    "### SIMULATION"
   ]
  },
  {
   "cell_type": "code",
   "execution_count": 6,
   "id": "af2eb3ce",
   "metadata": {},
   "outputs": [
    {
     "name": "stdout",
     "output_type": "stream",
     "text": [
      "\n",
      ". . .\n",
      ". . .\n",
      ". . .\n",
      "AI's turn:\n",
      "\n",
      "O . .\n",
      ". . .\n",
      ". . .\n",
      "Your turn. Choose a move from available options: [2, 3, 4, 5, 6, 7, 8, 9]\n",
      "Enter your move (1-9): 5\n",
      "\n",
      "O . .\n",
      ". X .\n",
      ". . .\n",
      "AI's turn:\n",
      "\n",
      "O O .\n",
      ". X .\n",
      ". . .\n",
      "Your turn. Choose a move from available options: [3, 4, 6, 7, 8, 9]\n",
      "Enter your move (1-9): 3\n",
      "\n",
      "O O X\n",
      ". X .\n",
      ". . .\n",
      "AI's turn:\n",
      "\n",
      "O O X\n",
      ". X .\n",
      "O . .\n",
      "Your turn. Choose a move from available options: [4, 6, 8, 9]\n",
      "Enter your move (1-9): 4\n",
      "\n",
      "O O X\n",
      "X X .\n",
      "O . .\n",
      "AI's turn:\n",
      "\n",
      "O O X\n",
      "X X O\n",
      "O . .\n",
      "Your turn. Choose a move from available options: [8, 9]\n",
      "Enter your move (1-9): 8\n",
      "\n",
      "O O X\n",
      "X X O\n",
      "O X .\n",
      "AI's turn:\n",
      "\n",
      "O O X\n",
      "X X O\n",
      "O X O\n",
      "The game is a draw!\n"
     ]
    }
   ],
   "source": [
    "# Simulating a game between human and AI\n",
    "def play_game():\n",
    "    game = TicTacToe(players=[AI_Player(Negamax(9)), Human_Player()])\n",
    "    \n",
    "    # Loop until the game is over\n",
    "    while not game.is_over():\n",
    "        # AI's turn\n",
    "        game.show()\n",
    "        print(f\"AI's turn:\")\n",
    "        move = game.get_move()\n",
    "        game.play_move(move)\n",
    "        \n",
    "        # Check if AI has won or the game is over\n",
    "        if game.is_over():\n",
    "            game.show()\n",
    "            if game.lose():\n",
    "                print(\"AI wins!\")\n",
    "            else:\n",
    "                print(\"The game is a draw!\")\n",
    "            break\n",
    "        \n",
    "        # Human's turn\n",
    "        game.show()\n",
    "        print(f\"Your turn. Choose a move from available options: {game.possible_moves()}\")\n",
    "        human_move = int(input(\"Enter your move (1-9): \"))\n",
    "        \n",
    "        # Validate the move\n",
    "        while human_move not in game.possible_moves():\n",
    "            print(\"Invalid move, try again.\")\n",
    "            human_move = int(input(\"Enter your move (1-9): \"))\n",
    "        \n",
    "        game.play_move(human_move)\n",
    "        \n",
    "        # Check if human has won or the game is over\n",
    "        if game.is_over():\n",
    "            game.show()\n",
    "            if game.lose():\n",
    "                print(\"You win!\")\n",
    "            else:\n",
    "                print(\"The game is a draw!\")\n",
    "            break\n",
    "\n",
    "play_game()\n"
   ]
  },
  {
   "cell_type": "code",
   "execution_count": 7,
   "id": "19ed1762",
   "metadata": {},
   "outputs": [
    {
     "name": "stdout",
     "output_type": "stream",
     "text": [
      "\n",
      ". . .\n",
      ". . .\n",
      ". . .\n",
      "AI's turn:\n",
      "\n",
      "O . .\n",
      ". . .\n",
      ". . .\n",
      "Your turn. Choose a move from available options: [2, 3, 4, 5, 6, 7, 8, 9]\n",
      "Enter your move (1-9): 3\n",
      "\n",
      "O . X\n",
      ". . .\n",
      ". . .\n",
      "AI's turn:\n",
      "\n",
      "O . X\n",
      "O . .\n",
      ". . .\n",
      "Your turn. Choose a move from available options: [2, 5, 6, 7, 8, 9]\n",
      "Enter your move (1-9): 7\n",
      "\n",
      "O . X\n",
      "O . .\n",
      "X . .\n",
      "AI's turn:\n",
      "\n",
      "O . X\n",
      "O O .\n",
      "X . .\n",
      "Your turn. Choose a move from available options: [2, 6, 8, 9]\n",
      "Enter your move (1-9): 9\n",
      "\n",
      "O . X\n",
      "O O .\n",
      "X . X\n",
      "AI's turn:\n",
      "\n",
      "O . X\n",
      "O O O\n",
      "X . X\n",
      "AI wins!\n"
     ]
    }
   ],
   "source": [
    "play_game()\n"
   ]
  },
  {
   "cell_type": "markdown",
   "id": "cddeecd9",
   "metadata": {},
   "source": [
    "# Thank You"
   ]
  },
  {
   "cell_type": "code",
   "execution_count": null,
   "id": "50bc5a71",
   "metadata": {},
   "outputs": [],
   "source": []
  }
 ],
 "metadata": {
  "kernelspec": {
   "display_name": "Python 3 (ipykernel)",
   "language": "python",
   "name": "python3"
  },
  "language_info": {
   "codemirror_mode": {
    "name": "ipython",
    "version": 3
   },
   "file_extension": ".py",
   "mimetype": "text/x-python",
   "name": "python",
   "nbconvert_exporter": "python",
   "pygments_lexer": "ipython3",
   "version": "3.11.4"
  }
 },
 "nbformat": 4,
 "nbformat_minor": 5
}
