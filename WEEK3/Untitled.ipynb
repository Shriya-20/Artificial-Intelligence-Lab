{
 "cells": [
  {
   "cell_type": "code",
   "execution_count": 2,
   "id": "2f94bb2f",
   "metadata": {},
   "outputs": [
    {
     "name": "stdout",
     "output_type": "stream",
     "text": [
      "Collecting easyAI\n",
      "  Obtaining dependency information for easyAI from https://files.pythonhosted.org/packages/63/2a/927324350557a2da87d59830588ce0c58f67e75384b55af4e82883f0b9cc/easyAI-2.0.12-py3-none-any.whl.metadata\n",
      "  Downloading easyAI-2.0.12-py3-none-any.whl.metadata (4.5 kB)\n",
      "Requirement already satisfied: numpy in c:\\users\\shriya bhat\\anaconda3\\lib\\site-packages (from easyAI) (1.24.3)\n",
      "Downloading easyAI-2.0.12-py3-none-any.whl (42 kB)\n",
      "   ---------------------------------------- 0.0/42.2 kB ? eta -:--:--\n",
      "   ---------------------------------------- 42.2/42.2 kB 2.0 MB/s eta 0:00:00\n",
      "Installing collected packages: easyAI\n",
      "Successfully installed easyAI-2.0.12\n",
      "Note: you may need to restart the kernel to use updated packages.\n"
     ]
    }
   ],
   "source": [
    "pip install easyAI"
   ]
  },
  {
   "cell_type": "code",
   "execution_count": 6,
   "id": "1848f06c",
   "metadata": {},
   "outputs": [],
   "source": [
    "from easyAI import TwoPlayerGame, Human_Player, AI_Player, Negamax"
   ]
  },
  {
   "cell_type": "code",
   "execution_count": 10,
   "id": "ff66b649",
   "metadata": {},
   "outputs": [],
   "source": [
    "class t(TwoPlayerGame):\n",
    "    def __init__(self,players=None):\n",
    "        self.players=None\n",
    "        self.board=[0 for i in range(9)]\n",
    "        self.current_player=1 # 1 or 2\n",
    "    \n",
    "        \n",
    "    "
   ]
  },
  {
   "cell_type": "code",
   "execution_count": null,
   "id": "f6dc87dd",
   "metadata": {},
   "outputs": [],
   "source": []
  }
 ],
 "metadata": {
  "kernelspec": {
   "display_name": "Python 3 (ipykernel)",
   "language": "python",
   "name": "python3"
  },
  "language_info": {
   "codemirror_mode": {
    "name": "ipython",
    "version": 3
   },
   "file_extension": ".py",
   "mimetype": "text/x-python",
   "name": "python",
   "nbconvert_exporter": "python",
   "pygments_lexer": "ipython3",
   "version": "3.11.4"
  }
 },
 "nbformat": 4,
 "nbformat_minor": 5
}
