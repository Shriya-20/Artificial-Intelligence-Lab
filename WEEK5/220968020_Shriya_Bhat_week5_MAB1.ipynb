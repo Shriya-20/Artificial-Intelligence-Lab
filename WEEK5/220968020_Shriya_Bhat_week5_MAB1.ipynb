{
 "cells": [
  {
   "cell_type": "markdown",
   "id": "6d91aa3b",
   "metadata": {},
   "source": [
    "###  Name: Shriya Bhat\n",
    "### Reg: 220968020\n",
    "### Class: DSE A1\n",
    "### Week 5 Dataset 1"
   ]
  },
  {
   "cell_type": "markdown",
   "id": "b7cad725",
   "metadata": {},
   "source": [
    "# WEEK 5 – MULTI-ARMED BANDITS – AD OPTIMIZATION\n",
    "\n",
    "Consider the dataset **\"Ads_Clicks,\"** which contains information about user interactions with advertisements over time. An advertising company is running **10 different ads** on a webpage, all targeted toward a similar audience. The dataset records whether a user clicked at a given time step. Each column corresponds to a specific ad, where **YES(1)** indicates that the **ad was clicked**, and **NO(0)** indicates that **it was not**. Consider the attached csv file.\n",
    "\n",
    "- 1)Define the multi-armed bandit (MAB) problem in the context of ad optimization, considering how an agent selects among multiple ads to maximize clicks.\n",
    "- 2)How does the exploration-exploitation trade-off influence decision-making in this scenario?\n",
    "- 3)Implement the ε-greedy algorithm to optimize ad selection and compute the total rewards after **2000-time steps** for: **ε = 0.05** and **ε = 0.2**.\n",
    "- 4)Compare the effect of different ε values on total rewards and action selection.\n",
    "- 5)Implement the UCB method with an exploration factor **c = 2.0** and compute total rewards after **2000-time steps**.\n",
    "- 6)How does increasing or decreasing the exploration factor c affect the performance?\n",
    "- 7)Analyze how the estimated action values (Q-values) compare to the actual optimal action in both **ε-greedy** and **UCB** methods.\n",
    "- 8)Which approach leads to a better approximation of the optimal action?\n",
    "- 9)Evaluate how the performance of **ε-greedy** and **UCB** changes when the time horizon is extended to **5000-time steps** instead of **2000-time steps**.\n",
    "- Does a longer time horizon reduce the impact of exploration parameters (**ε or c**) on total rewards?\n"
   ]
  },
  {
   "cell_type": "markdown",
   "id": "b6ea788f",
   "metadata": {},
   "source": [
    "- Instead of a pure optimization problem, the task is on the one hand to maximize the number of clicks, but on the other to simultaneously try out different configurations in a clever way to acquire new data (clicks & views) that are most informative about the true optimum.\n",
    "\n",
    "- This is often referred to as the Exploration-Exploitation Dilemma: we need to explore and play different teasers to see which one of them works best. But at the same time, we need to exploit our current knowlege and play the configuration we assume to be best as often as possible."
   ]
  },
  {
   "cell_type": "code",
   "execution_count": 20,
   "id": "f512287c",
   "metadata": {},
   "outputs": [
    {
     "data": {
      "text/html": [
       "<div>\n",
       "<style scoped>\n",
       "    .dataframe tbody tr th:only-of-type {\n",
       "        vertical-align: middle;\n",
       "    }\n",
       "\n",
       "    .dataframe tbody tr th {\n",
       "        vertical-align: top;\n",
       "    }\n",
       "\n",
       "    .dataframe thead th {\n",
       "        text-align: right;\n",
       "    }\n",
       "</style>\n",
       "<table border=\"1\" class=\"dataframe\">\n",
       "  <thead>\n",
       "    <tr style=\"text-align: right;\">\n",
       "      <th></th>\n",
       "      <th>Daily Time Spent on Site</th>\n",
       "      <th>Age</th>\n",
       "      <th>Area Income</th>\n",
       "      <th>Daily Internet Usage</th>\n",
       "      <th>Ad Topic Line</th>\n",
       "      <th>City</th>\n",
       "      <th>Male</th>\n",
       "      <th>Country</th>\n",
       "      <th>Timestamp</th>\n",
       "      <th>Clicked on Ad</th>\n",
       "    </tr>\n",
       "  </thead>\n",
       "  <tbody>\n",
       "    <tr>\n",
       "      <th>0</th>\n",
       "      <td>68.95</td>\n",
       "      <td>35</td>\n",
       "      <td>61833.90</td>\n",
       "      <td>256.09</td>\n",
       "      <td>Cloned 5thgeneration orchestration</td>\n",
       "      <td>Wrightburgh</td>\n",
       "      <td>0.0</td>\n",
       "      <td>Tunisia</td>\n",
       "      <td>3/27/2016 0:53</td>\n",
       "      <td>0</td>\n",
       "    </tr>\n",
       "    <tr>\n",
       "      <th>1</th>\n",
       "      <td>80.23</td>\n",
       "      <td>31</td>\n",
       "      <td>68441.85</td>\n",
       "      <td>193.77</td>\n",
       "      <td>Monitored national standardization</td>\n",
       "      <td>West Jodi</td>\n",
       "      <td>1.0</td>\n",
       "      <td>Nauru</td>\n",
       "      <td>4/4/2016 1:39</td>\n",
       "      <td>0</td>\n",
       "    </tr>\n",
       "    <tr>\n",
       "      <th>2</th>\n",
       "      <td>69.47</td>\n",
       "      <td>26</td>\n",
       "      <td>59785.94</td>\n",
       "      <td>236.50</td>\n",
       "      <td>Organic bottom-line service-desk</td>\n",
       "      <td>Davidton</td>\n",
       "      <td>0.0</td>\n",
       "      <td>San Marino</td>\n",
       "      <td>3/13/2016 20:35</td>\n",
       "      <td>0</td>\n",
       "    </tr>\n",
       "    <tr>\n",
       "      <th>3</th>\n",
       "      <td>74.15</td>\n",
       "      <td>29</td>\n",
       "      <td>54806.18</td>\n",
       "      <td>245.89</td>\n",
       "      <td>Triple-buffered reciprocal time-frame</td>\n",
       "      <td>West Terrifurt</td>\n",
       "      <td>1.0</td>\n",
       "      <td>Italy</td>\n",
       "      <td>1/10/2016 2:31</td>\n",
       "      <td>0</td>\n",
       "    </tr>\n",
       "    <tr>\n",
       "      <th>4</th>\n",
       "      <td>68.37</td>\n",
       "      <td>35</td>\n",
       "      <td>73889.99</td>\n",
       "      <td>225.58</td>\n",
       "      <td>Robust logistical utilization</td>\n",
       "      <td>South Manuel</td>\n",
       "      <td>0.0</td>\n",
       "      <td>Iceland</td>\n",
       "      <td>6/3/2016 3:36</td>\n",
       "      <td>0</td>\n",
       "    </tr>\n",
       "    <tr>\n",
       "      <th>...</th>\n",
       "      <td>...</td>\n",
       "      <td>...</td>\n",
       "      <td>...</td>\n",
       "      <td>...</td>\n",
       "      <td>...</td>\n",
       "      <td>...</td>\n",
       "      <td>...</td>\n",
       "      <td>...</td>\n",
       "      <td>...</td>\n",
       "      <td>...</td>\n",
       "    </tr>\n",
       "    <tr>\n",
       "      <th>995</th>\n",
       "      <td>72.97</td>\n",
       "      <td>30</td>\n",
       "      <td>71384.57</td>\n",
       "      <td>208.58</td>\n",
       "      <td>Fundamental modular algorithm</td>\n",
       "      <td>Duffystad</td>\n",
       "      <td>1.0</td>\n",
       "      <td>Lebanon</td>\n",
       "      <td>2/11/2016 21:49</td>\n",
       "      <td>1</td>\n",
       "    </tr>\n",
       "    <tr>\n",
       "      <th>996</th>\n",
       "      <td>51.30</td>\n",
       "      <td>45</td>\n",
       "      <td>67782.17</td>\n",
       "      <td>134.42</td>\n",
       "      <td>Grass-roots cohesive monitoring</td>\n",
       "      <td>New Darlene</td>\n",
       "      <td>1.0</td>\n",
       "      <td>Bosnia and Herzegovina</td>\n",
       "      <td>4/22/2016 2:07</td>\n",
       "      <td>1</td>\n",
       "    </tr>\n",
       "    <tr>\n",
       "      <th>997</th>\n",
       "      <td>NaN</td>\n",
       "      <td>51</td>\n",
       "      <td>42415.72</td>\n",
       "      <td>120.37</td>\n",
       "      <td>Expanded intangible solution</td>\n",
       "      <td>South Jessica</td>\n",
       "      <td>1.0</td>\n",
       "      <td>Mongolia</td>\n",
       "      <td>2/1/2016 17:24</td>\n",
       "      <td>1</td>\n",
       "    </tr>\n",
       "    <tr>\n",
       "      <th>998</th>\n",
       "      <td>55.55</td>\n",
       "      <td>19</td>\n",
       "      <td>41920.79</td>\n",
       "      <td>187.95</td>\n",
       "      <td>Proactive bandwidth-monitored policy</td>\n",
       "      <td>West Steven</td>\n",
       "      <td>0.0</td>\n",
       "      <td>Guatemala</td>\n",
       "      <td>3/24/2016 2:35</td>\n",
       "      <td>0</td>\n",
       "    </tr>\n",
       "    <tr>\n",
       "      <th>999</th>\n",
       "      <td>45.01</td>\n",
       "      <td>26</td>\n",
       "      <td>29875.80</td>\n",
       "      <td>178.35</td>\n",
       "      <td>Virtual 5thgeneration emulation</td>\n",
       "      <td>Ronniemouth</td>\n",
       "      <td>0.0</td>\n",
       "      <td>Brazil</td>\n",
       "      <td>6/3/2016 21:43</td>\n",
       "      <td>1</td>\n",
       "    </tr>\n",
       "  </tbody>\n",
       "</table>\n",
       "<p>1000 rows × 10 columns</p>\n",
       "</div>"
      ],
      "text/plain": [
       "     Daily Time Spent on Site  Age  Area Income  Daily Internet Usage  \\\n",
       "0                       68.95   35     61833.90                256.09   \n",
       "1                       80.23   31     68441.85                193.77   \n",
       "2                       69.47   26     59785.94                236.50   \n",
       "3                       74.15   29     54806.18                245.89   \n",
       "4                       68.37   35     73889.99                225.58   \n",
       "..                        ...  ...          ...                   ...   \n",
       "995                     72.97   30     71384.57                208.58   \n",
       "996                     51.30   45     67782.17                134.42   \n",
       "997                       NaN   51     42415.72                120.37   \n",
       "998                     55.55   19     41920.79                187.95   \n",
       "999                     45.01   26     29875.80                178.35   \n",
       "\n",
       "                             Ad Topic Line            City  Male  \\\n",
       "0       Cloned 5thgeneration orchestration     Wrightburgh   0.0   \n",
       "1       Monitored national standardization       West Jodi   1.0   \n",
       "2         Organic bottom-line service-desk        Davidton   0.0   \n",
       "3    Triple-buffered reciprocal time-frame  West Terrifurt   1.0   \n",
       "4            Robust logistical utilization    South Manuel   0.0   \n",
       "..                                     ...             ...   ...   \n",
       "995          Fundamental modular algorithm       Duffystad   1.0   \n",
       "996        Grass-roots cohesive monitoring     New Darlene   1.0   \n",
       "997           Expanded intangible solution   South Jessica   1.0   \n",
       "998   Proactive bandwidth-monitored policy     West Steven   0.0   \n",
       "999        Virtual 5thgeneration emulation     Ronniemouth   0.0   \n",
       "\n",
       "                    Country        Timestamp  Clicked on Ad  \n",
       "0                   Tunisia   3/27/2016 0:53              0  \n",
       "1                     Nauru    4/4/2016 1:39              0  \n",
       "2                San Marino  3/13/2016 20:35              0  \n",
       "3                     Italy   1/10/2016 2:31              0  \n",
       "4                   Iceland    6/3/2016 3:36              0  \n",
       "..                      ...              ...            ...  \n",
       "995                 Lebanon  2/11/2016 21:49              1  \n",
       "996  Bosnia and Herzegovina   4/22/2016 2:07              1  \n",
       "997                Mongolia   2/1/2016 17:24              1  \n",
       "998               Guatemala   3/24/2016 2:35              0  \n",
       "999                  Brazil   6/3/2016 21:43              1  \n",
       "\n",
       "[1000 rows x 10 columns]"
      ]
     },
     "execution_count": 20,
     "metadata": {},
     "output_type": "execute_result"
    }
   ],
   "source": [
    "import pandas as pd \n",
    "import numpy as np \n",
    "import random\n",
    "df = pd.read_csv(\"Ad Click Data.csv\")\n",
    "df"
   ]
  },
  {
   "cell_type": "code",
   "execution_count": 21,
   "id": "f96623ba",
   "metadata": {
    "scrolled": true
   },
   "outputs": [
    {
     "data": {
      "text/plain": [
       "Daily Time Spent on Site    13\n",
       "Age                          0\n",
       "Area Income                 13\n",
       "Daily Internet Usage        11\n",
       "Ad Topic Line                0\n",
       "City                         1\n",
       "Male                         3\n",
       "Country                      9\n",
       "Timestamp                    0\n",
       "Clicked on Ad                0\n",
       "dtype: int64"
      ]
     },
     "execution_count": 21,
     "metadata": {},
     "output_type": "execute_result"
    }
   ],
   "source": [
    "df.isnull().sum()"
   ]
  },
  {
   "cell_type": "code",
   "execution_count": 22,
   "id": "0c525185",
   "metadata": {},
   "outputs": [
    {
     "data": {
      "text/plain": [
       "Daily Time Spent on Site    0\n",
       "Age                         0\n",
       "Area Income                 0\n",
       "Daily Internet Usage        0\n",
       "Ad Topic Line               0\n",
       "City                        1\n",
       "Male                        0\n",
       "Country                     9\n",
       "Timestamp                   0\n",
       "Clicked on Ad               0\n",
       "dtype: int64"
      ]
     },
     "execution_count": 22,
     "metadata": {},
     "output_type": "execute_result"
    }
   ],
   "source": [
    "df['Daily Time Spent on Site'] = df['Daily Time Spent on Site'].fillna(df['Daily Time Spent on Site'].mean())\n",
    "df['Area Income'] = df['Area Income'].fillna(df['Area Income'].mean())\n",
    "df['Daily Internet Usage'] = df['Daily Internet Usage'].fillna(df['Daily Internet Usage'].mean())\n",
    "df['Male'] = df['Male'].fillna(df['Male'].mode()[0])\n",
    "df.isnull().sum()\n"
   ]
  },
  {
   "cell_type": "code",
   "execution_count": 23,
   "id": "20c1f4d7",
   "metadata": {},
   "outputs": [
    {
     "data": {
      "text/plain": [
       "Index(['Daily Time Spent on Site', 'Age', 'Area Income',\n",
       "       'Daily Internet Usage', 'Ad Topic Line', 'City', 'Male', 'Country',\n",
       "       'Timestamp', 'Clicked on Ad'],\n",
       "      dtype='object')"
      ]
     },
     "execution_count": 23,
     "metadata": {},
     "output_type": "execute_result"
    }
   ],
   "source": [
    "df.columns"
   ]
  },
  {
   "cell_type": "code",
   "execution_count": 8,
   "id": "1688a579",
   "metadata": {
    "scrolled": false
   },
   "outputs": [
    {
     "data": {
      "text/html": [
       "<div>\n",
       "<style scoped>\n",
       "    .dataframe tbody tr th:only-of-type {\n",
       "        vertical-align: middle;\n",
       "    }\n",
       "\n",
       "    .dataframe tbody tr th {\n",
       "        vertical-align: top;\n",
       "    }\n",
       "\n",
       "    .dataframe thead th {\n",
       "        text-align: right;\n",
       "    }\n",
       "</style>\n",
       "<table border=\"1\" class=\"dataframe\">\n",
       "  <thead>\n",
       "    <tr style=\"text-align: right;\">\n",
       "      <th></th>\n",
       "      <th>Daily Time Spent on Site</th>\n",
       "      <th>Age</th>\n",
       "      <th>Area Income</th>\n",
       "      <th>Daily Internet Usage</th>\n",
       "      <th>Male</th>\n",
       "      <th>Clicked on Ad</th>\n",
       "    </tr>\n",
       "  </thead>\n",
       "  <tbody>\n",
       "    <tr>\n",
       "      <th>count</th>\n",
       "      <td>1000.000000</td>\n",
       "      <td>1000.000000</td>\n",
       "      <td>1000.000000</td>\n",
       "      <td>1000.000000</td>\n",
       "      <td>1000.000000</td>\n",
       "      <td>1000.00000</td>\n",
       "    </tr>\n",
       "    <tr>\n",
       "      <th>mean</th>\n",
       "      <td>64.929524</td>\n",
       "      <td>36.009000</td>\n",
       "      <td>54980.667234</td>\n",
       "      <td>179.863620</td>\n",
       "      <td>0.479000</td>\n",
       "      <td>0.50000</td>\n",
       "    </tr>\n",
       "    <tr>\n",
       "      <th>std</th>\n",
       "      <td>15.741268</td>\n",
       "      <td>8.785562</td>\n",
       "      <td>13352.264717</td>\n",
       "      <td>43.627946</td>\n",
       "      <td>0.499809</td>\n",
       "      <td>0.50025</td>\n",
       "    </tr>\n",
       "    <tr>\n",
       "      <th>min</th>\n",
       "      <td>32.600000</td>\n",
       "      <td>19.000000</td>\n",
       "      <td>13996.500000</td>\n",
       "      <td>104.780000</td>\n",
       "      <td>0.000000</td>\n",
       "      <td>0.00000</td>\n",
       "    </tr>\n",
       "    <tr>\n",
       "      <th>25%</th>\n",
       "      <td>51.545000</td>\n",
       "      <td>29.000000</td>\n",
       "      <td>47117.162500</td>\n",
       "      <td>139.017500</td>\n",
       "      <td>0.000000</td>\n",
       "      <td>0.00000</td>\n",
       "    </tr>\n",
       "    <tr>\n",
       "      <th>50%</th>\n",
       "      <td>67.780000</td>\n",
       "      <td>35.000000</td>\n",
       "      <td>56786.965000</td>\n",
       "      <td>181.065000</td>\n",
       "      <td>0.000000</td>\n",
       "      <td>0.50000</td>\n",
       "    </tr>\n",
       "    <tr>\n",
       "      <th>75%</th>\n",
       "      <td>78.352500</td>\n",
       "      <td>42.000000</td>\n",
       "      <td>65241.887500</td>\n",
       "      <td>218.287500</td>\n",
       "      <td>1.000000</td>\n",
       "      <td>1.00000</td>\n",
       "    </tr>\n",
       "    <tr>\n",
       "      <th>max</th>\n",
       "      <td>91.430000</td>\n",
       "      <td>61.000000</td>\n",
       "      <td>79484.800000</td>\n",
       "      <td>267.010000</td>\n",
       "      <td>1.000000</td>\n",
       "      <td>1.00000</td>\n",
       "    </tr>\n",
       "  </tbody>\n",
       "</table>\n",
       "</div>"
      ],
      "text/plain": [
       "       Daily Time Spent on Site          Age   Area Income  \\\n",
       "count               1000.000000  1000.000000   1000.000000   \n",
       "mean                  64.929524    36.009000  54980.667234   \n",
       "std                   15.741268     8.785562  13352.264717   \n",
       "min                   32.600000    19.000000  13996.500000   \n",
       "25%                   51.545000    29.000000  47117.162500   \n",
       "50%                   67.780000    35.000000  56786.965000   \n",
       "75%                   78.352500    42.000000  65241.887500   \n",
       "max                   91.430000    61.000000  79484.800000   \n",
       "\n",
       "       Daily Internet Usage         Male  Clicked on Ad  \n",
       "count           1000.000000  1000.000000     1000.00000  \n",
       "mean             179.863620     0.479000        0.50000  \n",
       "std               43.627946     0.499809        0.50025  \n",
       "min              104.780000     0.000000        0.00000  \n",
       "25%              139.017500     0.000000        0.00000  \n",
       "50%              181.065000     0.000000        0.50000  \n",
       "75%              218.287500     1.000000        1.00000  \n",
       "max              267.010000     1.000000        1.00000  "
      ]
     },
     "execution_count": 8,
     "metadata": {},
     "output_type": "execute_result"
    }
   ],
   "source": [
    "df.describe()"
   ]
  },
  {
   "cell_type": "code",
   "execution_count": 9,
   "id": "824780a7",
   "metadata": {
    "scrolled": false
   },
   "outputs": [
    {
     "data": {
      "text/plain": [
       "Daily Time Spent on Site    float64\n",
       "Age                           int64\n",
       "Area Income                 float64\n",
       "Daily Internet Usage        float64\n",
       "Ad Topic Line                object\n",
       "City                         object\n",
       "Male                        float64\n",
       "Country                      object\n",
       "Timestamp                    object\n",
       "Clicked on Ad                 int64\n",
       "dtype: object"
      ]
     },
     "execution_count": 9,
     "metadata": {},
     "output_type": "execute_result"
    }
   ],
   "source": [
    "df.dtypes\n"
   ]
  },
  {
   "cell_type": "code",
   "execution_count": 10,
   "id": "6b48ae24",
   "metadata": {},
   "outputs": [
    {
     "name": "stdout",
     "output_type": "stream",
     "text": [
      "0    500\n",
      "1    500\n",
      "Name: Clicked on Ad, dtype: int64\n",
      "0.0    521\n",
      "1.0    479\n",
      "Name: Male, dtype: int64\n"
     ]
    }
   ],
   "source": [
    "print(df['Clicked on Ad'].value_counts())\n",
    "print(df['Male'].value_counts())"
   ]
  },
  {
   "cell_type": "markdown",
   "id": "ba21be8e",
   "metadata": {},
   "source": [
    "### 1)Define the multi-armed bandit (MAB) problem in the context of ad optimization, considering how an agent selects among multiple ads to maximize clicks.\n"
   ]
  },
  {
   "cell_type": "markdown",
   "id": "2e798810",
   "metadata": {},
   "source": [
    "The Multi-Armed Bandit (MAB) problem involves an agent selecting one of several possible actions (or \"arms\") in order to maximize a certain reward over time. In the context of ad optimization, each ad is considered a \"bandit arm,\" and the reward corresponds to whether a user clicks on an advertisement (1 for a click, 0 for no click). The challenge is to determine which advertisement to display to maximize the total number of clicks over time, balancing the need to explore different ads to gather information and exploit the ads that have already shown to yield the most clicks."
   ]
  },
  {
   "cell_type": "markdown",
   "id": "f60d2442",
   "metadata": {},
   "source": [
    "### 2) How Does the Exploration-Exploitation Trade-off Influence Decision-Making in This Scenario?\n"
   ]
  },
  {
   "cell_type": "markdown",
   "id": "cec3f2c0",
   "metadata": {},
   "source": [
    "The exploration-exploitation trade-off plays a crucial role in deciding whether to show an ad that has historically performed well (exploitation) or to test an ad that has not been shown much yet (exploration). In this scenario:\n",
    "\n",
    "Exploration allows the agent to learn which ads perform better in the long term, but it can result in suboptimal short-term performance.\n",
    "Exploitation maximizes immediate rewards by selecting ads that have previously performed well, but it might miss out on potentially better-performing ads that have not been tested as much.\n",
    "The challenge is to balance exploration and exploitation to maximize overall rewards over time."
   ]
  },
  {
   "cell_type": "markdown",
   "id": "2c592857",
   "metadata": {},
   "source": [
    "### 3)Implement the ε-greedy algorithm to optimize ad selection and compute the total rewards after **2000-time steps** for: **ε = 0.05** and **ε = 0.2**."
   ]
  },
  {
   "cell_type": "code",
   "execution_count": 11,
   "id": "b6836541",
   "metadata": {},
   "outputs": [
    {
     "data": {
      "text/plain": [
       "1000"
      ]
     },
     "execution_count": 11,
     "metadata": {},
     "output_type": "execute_result"
    }
   ],
   "source": [
    "ads = df['Ad Topic Line'].unique() \n",
    "n_ads = len(ads) \n",
    "n_ads"
   ]
  },
  {
   "cell_type": "code",
   "execution_count": 12,
   "id": "238c11b7",
   "metadata": {},
   "outputs": [
    {
     "name": "stdout",
     "output_type": "stream",
     "text": [
      "Total Rewards for ε-Greedy (ε=0.05): 1018\n",
      "Total Rewards for ε-Greedy (ε=0.2): 976\n"
     ]
    }
   ],
   "source": [
    "# Function to simulate ε-Greedy action\n",
    "def epsilon_greedy_action(Q_values, epsilon):\n",
    "    if np.random.rand() < epsilon:\n",
    "        # Exploration: Randomly choose an action\n",
    "        return np.random.choice(len(Q_values))\n",
    "    else:\n",
    "        # Exploitation: Choose the action with the highest Q-value\n",
    "        return np.argmax(Q_values)\n",
    "\n",
    "# Function to simulate the MAB problem for 2000 steps\n",
    "def run_multi_armed_bandit(df, epsilon, c, total_steps):\n",
    "    num_ads = len(df['Ad Topic Line'].unique())  # The number of unique ad categories\n",
    "    \n",
    "    # Initialize action values and counts\n",
    "    Q_values = np.zeros(num_ads)\n",
    "    action_counts = np.zeros(num_ads)\n",
    "    \n",
    "    total_rewards = 0\n",
    "    \n",
    "    for step in range(total_steps):\n",
    "        # Choose action using ε-Greedy strategy\n",
    "        action = epsilon_greedy_action(Q_values, epsilon)\n",
    "        \n",
    "        # Randomly select a row to simulate user interaction\n",
    "        row_index = np.random.randint(len(df))  # Randomly pick a row\n",
    "        \n",
    "        # Get the ad category for the selected row\n",
    "        ad_category = df.iloc[row_index]['Ad Topic Line']\n",
    "        \n",
    "        # Get the reward from the chosen action (1 for click, 0 for no-click)\n",
    "        reward = df.iloc[row_index]['Clicked on Ad']\n",
    "        \n",
    "        # Update action values and counts\n",
    "        action_counts[action] += 1\n",
    "        Q_values[action] += (reward - Q_values[action]) / action_counts[action]\n",
    "        \n",
    "        # Update total rewards\n",
    "        total_rewards += reward\n",
    "    \n",
    "    return total_rewards\n",
    "\n",
    "# Set parameters\n",
    "epsilon_values = [0.05, 0.2]\n",
    "c_value = 1.5\n",
    "total_steps = 2000\n",
    "\n",
    "# Run simulations for ε-Greedy with different ε values (single 2000-step run)\n",
    "for epsilon in epsilon_values:\n",
    "    avg_total_rewards_epsilon = run_multi_armed_bandit(df, epsilon, c_value, total_steps)\n",
    "    print(f\"Total Rewards for ε-Greedy (ε={epsilon}): {avg_total_rewards_epsilon}\")"
   ]
  },
  {
   "cell_type": "code",
   "execution_count": 13,
   "id": "3faeb990",
   "metadata": {},
   "outputs": [
    {
     "name": "stdout",
     "output_type": "stream",
     "text": [
      "Total Payoff = 1321.000\n"
     ]
    },
    {
     "data": {
      "image/png": "[encoded data removed]",
      "text/plain": [
       "<Figure size 432x288 with 1 Axes>"
      ]
     },
     "metadata": {
      "needs_background": "light"
     },
     "output_type": "display_data"
    },
    {
     "name": "stdout",
     "output_type": "stream",
     "text": [
      "Total Payoff = 1250.000\n"
     ]
    },
    {
     "data": {
      "image/png": "[encoded data removed]",
      "text/plain": [
       "<Figure size 432x288 with 1 Axes>"
      ]
     },
     "metadata": {
      "needs_background": "light"
     },
     "output_type": "display_data"
    }
   ],
   "source": [
    "import pandas as pd\n",
    "import numpy as np\n",
    "import matplotlib.pyplot as plt\n",
    "import seaborn as sns\n",
    "\n",
    "# Define Bandit Class\n",
    "class Bandit():\n",
    "    def __init__(self, arms, epsilon=0.2, initial=0, random_state=None):\n",
    "        self.arms = arms\n",
    "        self.payoffs = np.zeros(len(arms))\n",
    "        self.counts = np.zeros(len(arms))\n",
    "        self.initial = initial\n",
    "        self.epsilon = epsilon\n",
    "        np.random.seed(random_state)\n",
    "        \n",
    "    def get(self):\n",
    "        if np.random.ranf() < self.epsilon:\n",
    "            # Exploration\n",
    "            index = np.random.randint(0, len(self.arms))\n",
    "            return index, self.arms[index]\n",
    "        else:\n",
    "            # Exploitation\n",
    "            index = self.get_best()\n",
    "            return index, self.arms[index]\n",
    "    \n",
    "    def give(self, index, payoff):\n",
    "        self.payoffs[index] += payoff\n",
    "        self.counts[index] += 1\n",
    "        \n",
    "    def get_best(self):\n",
    "        zero = 1e-10\n",
    "        mean_payoffs = self.payoffs / (self.counts + zero)\n",
    "        best_idx = np.argmax(mean_payoffs)\n",
    "        return best_idx\n",
    "    \n",
    "# Simulate Bandit Function\n",
    "def simulate_bandit(bandit, ads, df, verbose=False):\n",
    "    counts = np.zeros(len(ads))\n",
    "    history = np.zeros((len(df), len(ads)))\n",
    "    earnings = np.zeros(len(df))\n",
    "    total_earnings = 0\n",
    "    for i, visitor in enumerate(df.values):\n",
    "        idx, ad = bandit.get()\n",
    "        payoff = visitor[idx]\n",
    "        bandit.give(idx, payoff)\n",
    "        counts[idx] += 1\n",
    "        history[i] = counts\n",
    "        total_earnings += payoff\n",
    "        earnings[i] = total_earnings\n",
    "    print(\"Total Payoff = {0:.3f}\".format(total_earnings))\n",
    "    time = list(range(len(df)))\n",
    "    for i, ad in enumerate(ads):\n",
    "        sns.lineplot(x=time, y=history[:,i], label=ad)\n",
    "    plt.title(f\"Epsilon = {bandit.epsilon}\")\n",
    "    plt.xlabel(\"Visitors\")\n",
    "    plt.ylabel(\"Number of Times Chosen\")\n",
    "    plt.legend()\n",
    "    plt.show()\n",
    "\n",
    "# Example usage\n",
    "SEED = 5682\n",
    "np.random.seed(SEED)\n",
    "N = 2000\n",
    "df = pd.DataFrame()\n",
    "df[\"A\"] = (np.random.ranf(size=N) >= 0.89).astype(int)\n",
    "df[\"B\"] = (np.random.ranf(size=N) >= 0.38).astype(int)\n",
    "df[\"C\"] = (np.random.ranf(size=N) >= 0.31).astype(int)\n",
    "ads = df.columns\n",
    "\n",
    "# Epsilon-Greedy with ε = 0.05\n",
    "epsilon_greedy_05 = Bandit(ads, epsilon=0.05, random_state=SEED)\n",
    "simulate_bandit(epsilon_greedy_05, ads, df)\n",
    "\n",
    "# Epsilon-Greedy with ε = 0.2\n",
    "epsilon_greedy_2 = Bandit(ads, epsilon=0.2, random_state=SEED)\n",
    "simulate_bandit(epsilon_greedy_2, ads, df)\n"
   ]
  },
  {
   "cell_type": "markdown",
   "id": "77889c5d",
   "metadata": {},
   "source": [
    "### 4) Compare the effect of different ε values on total rewards and action selection."
   ]
  },
  {
   "cell_type": "markdown",
   "id": "9acf9d84",
   "metadata": {},
   "source": [
    "By running the simulations for ε = 0.05 and ε = 0.2, we can observe the difference in how often each ad is selected and how the total rewards accumulate over time. With ε = 0.05, the agent will explore less, leading to a higher emphasis on exploiting the best-performing ad. With ε = 0.2, the agent will explore more, potentially selecting ads that aren't the best performers. This suggests that exploring different ads can slightly improve performance, though both strategies provide similar outcomes.\n"
   ]
  },
  {
   "cell_type": "markdown",
   "id": "300ff2a7",
   "metadata": {},
   "source": [
    "### 5) Implement the UCB method with an exploration factor c = 2.0 and compute total rewards after 2000-time steps"
   ]
  },
  {
   "cell_type": "markdown",
   "id": "78babd27",
   "metadata": {},
   "source": [
    "The UCB (Upper Confidence Bound) method is another strategy for balancing exploration and exploitation, but it uses confidence bounds to decide which ad to select based on the variance of past rewards."
   ]
  },
  {
   "cell_type": "code",
   "execution_count": 24,
   "id": "1e083e24",
   "metadata": {},
   "outputs": [
    {
     "name": "stdout",
     "output_type": "stream",
     "text": [
      "Total Rewards for UCB (c=2.0): 985\n"
     ]
    }
   ],
   "source": [
    "# Function to simulate UCB action\n",
    "def ucb_action(Q_values, action_counts, c):\n",
    "    # Calculate upper confidence bounds for each action\n",
    "    total_actions = np.sum(action_counts)\n",
    "    ucb_values = Q_values + c * np.sqrt(np.log(total_actions + 1) / (action_counts + 1))\n",
    "    \n",
    "    # Choose the action with the highest UCB value\n",
    "    return np.argmax(ucb_values)\n",
    "\n",
    "# Function to simulate the MAB problem for 2000 steps with UCB\n",
    "# Function to simulate the MAB problem for 2000 steps with UCB\n",
    "def run_multi_armed_bandit_ucb(df, c, total_steps):\n",
    "    num_ads = len(df['Ad Topic Line'].unique())  # The number of unique ad categories\n",
    "    \n",
    "    # Initialize action values and counts\n",
    "    Q_values = np.zeros(num_ads)\n",
    "    action_counts = np.zeros(num_ads)\n",
    "    \n",
    "    total_rewards = 0\n",
    "    \n",
    "    for step in range(total_steps):\n",
    "        # Choose action using UCB strategy\n",
    "        action = ucb_action(Q_values, action_counts, c)\n",
    "        \n",
    "        # Randomly select a row to simulate user interaction\n",
    "        row_index = np.random.randint(len(df))  # Randomly pick a row\n",
    "        \n",
    "        # Get the ad topic for the selected row\n",
    "        ad_topic = df.iloc[row_index]['Ad Topic Line']  # Correct column name\n",
    "        \n",
    "        # Get the reward from the chosen action (1 for click, 0 for no-click)\n",
    "        reward = df.iloc[row_index]['Clicked on Ad']\n",
    "        \n",
    "        # Update action values and counts\n",
    "        action_counts[action] += 1\n",
    "        Q_values[action] += (reward - Q_values[action]) / action_counts[action]\n",
    "        \n",
    "        # Update total rewards\n",
    "        total_rewards += reward\n",
    "    \n",
    "    return total_rewards\n",
    "\n",
    "\n",
    "# Set parameters\n",
    "c_value = 2.0\n",
    "total_steps = 2000\n",
    "\n",
    "# Run UCB simulation\n",
    "total_rewards_ucb = run_multi_armed_bandit_ucb(df, c_value, total_steps)\n",
    "print(f\"Total Rewards for UCB (c={c_value}): {total_rewards_ucb}\")"
   ]
  },
  {
   "cell_type": "code",
   "execution_count": 28,
   "id": "feb7ae64",
   "metadata": {},
   "outputs": [
    {
     "name": "stdout",
     "output_type": "stream",
     "text": [
      "Total Payoff = 54850491.434\n"
     ]
    },
    {
     "data": {
      "image/png": "[encoded data removed]",
      "text/plain": [
       "<Figure size 432x288 with 1 Axes>"
      ]
     },
     "metadata": {
      "needs_background": "light"
     },
     "output_type": "display_data"
    }
   ],
   "source": [
    "#just a demo\n",
    "\n",
    "class UCBBandit(Bandit):\n",
    "    def __init__(self, arms, c=2.0, **kwargs):\n",
    "        super().__init__(arms, **kwargs)\n",
    "        self.c = c\n",
    "    \n",
    "    def get(self):\n",
    "        if np.min(self.counts) == 0:\n",
    "            # If any arm has not been chosen, pick it\n",
    "            index = np.argmin(self.counts)\n",
    "        else:\n",
    "            total_counts = np.sum(self.counts)\n",
    "            ucb_values = self.payoffs / (self.counts + 1e-10) + self.c * np.sqrt(np.log(total_counts + 1) / (self.counts + 1e-10))\n",
    "            index = np.argmax(ucb_values)\n",
    "        return index, self.arms[index]\n",
    "\n",
    "# UCB with c = 2.0\n",
    "ucb_bandit = UCBBandit(ads, c=2.0, random_state=SEED)\n",
    "simulate_bandit(ucb_bandit, ads, df)\n"
   ]
  },
  {
   "cell_type": "markdown",
   "id": "a89da98e",
   "metadata": {},
   "source": [
    "### 6) How does increasing or decreasing the exploration factor c affect the performance?"
   ]
  },
  {
   "cell_type": "markdown",
   "id": "150f6bdc",
   "metadata": {},
   "source": [
    "Increasing c increases exploration, which may uncover better actions but risks suboptimal choices if too high. Decreasing c prioritizes exploitation, leading to faster convergence but possibly missing better actions.\n",
    "\n",
    "Increasing the exploration factor c encourages the agent to explore more, which might initially reduce rewards if it chooses suboptimal ads, but could potentially discover better options in the long term. On the other hand, decreasing c reduces exploration, making the agent exploit the known best-performing ads more frequently. The trade-off is between initial exploration and long-term optimal performance."
   ]
  },
  {
   "cell_type": "markdown",
   "id": "6b1254dc",
   "metadata": {},
   "source": [
    "### 7) Analyze how the estimated action values (Q-values) compare to the actual optimal action in both ε-greedy and UCB methods."
   ]
  },
  {
   "cell_type": "markdown",
   "id": "3fe4cb69",
   "metadata": {},
   "source": [
    "For both the ε-greedy and UCB approaches, the action value serves as an estimate of how good each action is based on the data collected during the experiment, while the optimal action is the one with the highest true expected reward.\n",
    "\n",
    "- **ε-greedy** methods tend to converge towards the best action over time as it exploits the most frequently selected ad.\n",
    "- **UCB** considers both the average reward and uncertainty in the action value, leading to a more deliberate exploration of actions that have high uncertainty. This could result in a better approximation of the optimal action if the number of trials is large."
   ]
  },
  {
   "cell_type": "markdown",
   "id": "912c1357",
   "metadata": {},
   "source": [
    "### 8) Which approach leads to a better approximation of the optimal action?"
   ]
  },
  {
   "cell_type": "markdown",
   "id": "b540683a",
   "metadata": {},
   "source": [
    "UCB outperforms ε-greedy in approximating the optimal action due to its effective balance between exploration and exploitation.\n",
    "The UCB method often leads to a better approximation of the optimal action because it balances exploration based on uncertainty and exploitation. The ε-greedy method, while effective, relies on a fixed exploration rate, which can miss opportunities for better ads when the reward structure changes over time."
   ]
  },
  {
   "cell_type": "markdown",
   "id": "3d7f1797",
   "metadata": {},
   "source": [
    "### 9) Evaluate how the performance of ε-greedy and UCB changes when the time horizon is extended to 5000-time steps instead of 2000-time steps"
   ]
  },
  {
   "cell_type": "markdown",
   "id": "c2ed09ab",
   "metadata": {},
   "source": [
    "Increasing the time horizon allows both ε-greedy and UCB to explore more and exploit better, potentially improving the total rewards for both methods. With a longer time horizon:\n",
    "\n",
    "- ε-greedy can accumulate more data about each ad, improving its ability to exploit the best ads.\n",
    "- UCB will have more opportunities to explore actions with higher uncertainty, leading to better decision-making as the agent gains more information."
   ]
  },
  {
   "cell_type": "code",
   "execution_count": 26,
   "id": "32c668c0",
   "metadata": {},
   "outputs": [
    {
     "name": "stdout",
     "output_type": "stream",
     "text": [
      "Total Rewards for ε-Greedy (ε=0.05) after 5000 steps: 2514\n",
      "Total Rewards for ε-Greedy (ε=0.2) after 5000 steps: 2490\n",
      "Total Rewards for UCB (c=2.0) after 5000 steps: 2608\n"
     ]
    }
   ],
   "source": [
    "epsilon_values = [0.05,0.2]\n",
    "c_value = 2.0  # UCB exploration factor\n",
    "total_steps = 5000  # Time horizon set to 5000 steps\n",
    "\n",
    "for epsilon in epsilon_values:\n",
    "    total_rewards_epsilon = run_multi_armed_bandit(df, epsilon, c_value, total_steps)\n",
    "    print(f\"Total Rewards for ε-Greedy (ε={epsilon}) after 5000 steps: {total_rewards_epsilon}\")\n",
    "\n",
    "total_rewards_ucb = run_multi_armed_bandit_ucb(df, c_value, total_steps)\n",
    "print(f\"Total Rewards for UCB (c={c_value}) after 5000 steps: {total_rewards_ucb}\")\n"
   ]
  },
  {
   "cell_type": "markdown",
   "id": "467a92c2",
   "metadata": {},
   "source": [
    "- ε-Greedy with ε = 0.05 performed the best among the ε-Greedy strategies, with 2514 rewards, which indicates that, with a low exploration rate (0.05), it focused more on exploiting the best actions based on past experience and yielded better results than the higher exploration rate (ε = 0.2).\n",
    "\n",
    "- ε-Greedy with ε = 0.2, with a higher exploration rate, performed slightly worse (2490 rewards) than the ε = 0.05 strategy. This suggests that the model explored more, but this exploration did not result in better rewards over the 5000 steps. In fact, higher exploration may have led to suboptimal choices during the early steps, leading to a decrease in overall rewards.\n",
    "\n",
    "- UCB with c = 2.0 outperformed both ε-Greedy strategies with 2608 rewards. This suggests that the UCB approach, which balances exploration and exploitation based on uncertainty, was more effective over the 5000 steps. The higher rewards may reflect UCB's ability to adaptively balance exploration and exploitation, as it adjusts its actions based on accumulated knowledge and explores when necessary.\n",
    "\n",
    "Explanation of the Differences:\n",
    "**Exploration vs. Exploitation Trade-off**:\n",
    "With ε-Greedy, the exploration-exploitation trade-off is controlled by the value of ε.\n",
    "Low ε (0.05) favors exploitation, focusing more on the actions that have yielded high rewards in the past.\n",
    "High ε (0.2) favors exploration, taking random actions more often, which leads to less optimal decisions in certain cases.\n",
    "UCB, on the other hand, explores less frequently but intelligently based on the uncertainty of each action’s value. The c parameter (2.0 in this case) controls the degree of exploration, balancing it against exploitation. UCB dynamically adjusts this balance, so it generally performs better in problems where the environment is less predictable or where the best choices are not immediately obvious.\n",
    "- Conclusion:\n",
    "UCB (c = 2.0) was the most successful strategy, outperforming both ε-Greedy (ε = 0.05) and ε-Greedy (ε = 0.2) in terms of total rewards. The success of UCB in this case likely comes from its adaptive strategy, which is generally more efficient when there's uncertainty or when it's critical to intelligently balance exploration and exploitation.\n",
    "\n",
    "- ε-Greedy with ε = 0.05 performed the second-best, likely because it was more focused on exploiting the best actions, and with fewer random explorations, it was able to maximize rewards over time.\n",
    "\n",
    "- ε-Greedy with ε = 0.2 showed the least performance. It explored more, which could have prevented it from settling on the optimal actions early on, resulting in slightly lower rewards."
   ]
  },
  {
   "cell_type": "markdown",
   "id": "8dca2aba",
   "metadata": {},
   "source": [
    "### Does a longer time horizon reduce the impact of exploration parameters (ε or c) on total rewards?"
   ]
  },
  {
   "cell_type": "markdown",
   "id": "48ca7616",
   "metadata": {},
   "source": [
    "With a longer time horizon, the impact of exploration parameters (ε or c) lessens as the algorithms have more time to explore and converge toward the optimal action, reducing the need for exploration."
   ]
  },
  {
   "cell_type": "markdown",
   "id": "e3b80e5e",
   "metadata": {},
   "source": [
    "References:\n",
    "https://www.kaggle.com/code/ruslankl/how-to-deal-with-multi-armed-bandit-problem\n",
    "https://www.kaggle.com/code/vingkan/multi-armed-bandit"
   ]
  },
  {
   "cell_type": "code",
   "execution_count": null,
   "id": "b030c90f",
   "metadata": {},
   "outputs": [],
   "source": []
  }
 ],
 "metadata": {
  "kernelspec": {
   "display_name": "Python 3 (ipykernel)",
   "language": "python",
   "name": "python3"
  },
  "language_info": {
   "codemirror_mode": {
    "name": "ipython",
    "version": 3
   },
   "file_extension": ".py",
   "mimetype": "text/x-python",
   "name": "python",
   "nbconvert_exporter": "python",
   "pygments_lexer": "ipython3",
   "version": "3.9.12"
  }
 },
 "nbformat": 4,
 "nbformat_minor": 5
}
