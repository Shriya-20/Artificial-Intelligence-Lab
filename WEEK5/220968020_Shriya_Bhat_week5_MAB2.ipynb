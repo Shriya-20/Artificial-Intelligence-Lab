{
 "cells": [
  {
   "cell_type": "markdown",
   "id": "6d91aa3b",
   "metadata": {},
   "source": [
    "###  Name: Shriya Bhat\n",
    "### Reg: 220968020\n",
    "### Class: DSE A1\n",
    "### Week 5 Dataset 2"
   ]
  },
  {
   "cell_type": "markdown",
   "id": "b7cad725",
   "metadata": {},
   "source": [
    "# WEEK 5 – MULTI-ARMED BANDITS – AD OPTIMIZATION\n",
    "\n",
    "Consider the dataset **\"Ads_Clicks,\"** which contains information about user interactions with advertisements over time. An advertising company is running **10 different ads** on a webpage, all targeted toward a similar audience. The dataset records whether a user clicked at a given time step. Each column corresponds to a specific ad, where **YES(1)** indicates that the **ad was clicked**, and **NO(0)** indicates that **it was not**. Consider the attached csv file.\n",
    "\n",
    "- 1)Define the multi-armed bandit (MAB) problem in the context of ad optimization, considering how an agent selects among multiple ads to maximize clicks.\n",
    "- 2)How does the exploration-exploitation trade-off influence decision-making in this scenario?\n",
    "- 3)Implement the ε-greedy algorithm to optimize ad selection and compute the total rewards after **2000-time steps** for: **ε = 0.05** and **ε = 0.2**.\n",
    "- 4)Compare the effect of different ε values on total rewards and action selection.\n",
    "- 5)Implement the UCB method with an exploration factor **c = 2.0** and compute total rewards after **2000-time steps**.\n",
    "- 6)How does increasing or decreasing the exploration factor c affect the performance?\n",
    "- 7)Analyze how the estimated action values (Q-values) compare to the actual optimal action in both **ε-greedy** and **UCB** methods.\n",
    "- 8)Which approach leads to a better approximation of the optimal action?\n",
    "- 9)Evaluate how the performance of **ε-greedy** and **UCB** changes when the time horizon is extended to **5000-time steps** instead of **2000-time steps**.\n",
    "- Does a longer time horizon reduce the impact of exploration parameters (**ε or c**) on total rewards?\n"
   ]
  },
  {
   "cell_type": "code",
   "execution_count": 1,
   "id": "f512287c",
   "metadata": {},
   "outputs": [
    {
     "data": {
      "text/html": [
       "<div>\n",
       "<style scoped>\n",
       "    .dataframe tbody tr th:only-of-type {\n",
       "        vertical-align: middle;\n",
       "    }\n",
       "\n",
       "    .dataframe tbody tr th {\n",
       "        vertical-align: top;\n",
       "    }\n",
       "\n",
       "    .dataframe thead th {\n",
       "        text-align: right;\n",
       "    }\n",
       "</style>\n",
       "<table border=\"1\" class=\"dataframe\">\n",
       "  <thead>\n",
       "    <tr style=\"text-align: right;\">\n",
       "      <th></th>\n",
       "      <th>Unnamed: 0</th>\n",
       "      <th>Daily Time Spent on Site</th>\n",
       "      <th>Age</th>\n",
       "      <th>Area Income</th>\n",
       "      <th>Daily Internet Usage</th>\n",
       "      <th>Male</th>\n",
       "      <th>Timestamp</th>\n",
       "      <th>Clicked on Ad</th>\n",
       "      <th>city</th>\n",
       "      <th>province</th>\n",
       "      <th>category</th>\n",
       "    </tr>\n",
       "  </thead>\n",
       "  <tbody>\n",
       "    <tr>\n",
       "      <th>0</th>\n",
       "      <td>0</td>\n",
       "      <td>68.95</td>\n",
       "      <td>35</td>\n",
       "      <td>432837300.0</td>\n",
       "      <td>256.09</td>\n",
       "      <td>Perempuan</td>\n",
       "      <td>3/27/2016 0:53</td>\n",
       "      <td>No</td>\n",
       "      <td>Jakarta Timur</td>\n",
       "      <td>Daerah Khusus Ibukota Jakarta</td>\n",
       "      <td>Furniture</td>\n",
       "    </tr>\n",
       "    <tr>\n",
       "      <th>1</th>\n",
       "      <td>1</td>\n",
       "      <td>80.23</td>\n",
       "      <td>31</td>\n",
       "      <td>479092950.0</td>\n",
       "      <td>193.77</td>\n",
       "      <td>Laki-Laki</td>\n",
       "      <td>4/4/2016 1:39</td>\n",
       "      <td>No</td>\n",
       "      <td>Denpasar</td>\n",
       "      <td>Bali</td>\n",
       "      <td>Food</td>\n",
       "    </tr>\n",
       "    <tr>\n",
       "      <th>2</th>\n",
       "      <td>2</td>\n",
       "      <td>69.47</td>\n",
       "      <td>26</td>\n",
       "      <td>418501580.0</td>\n",
       "      <td>236.50</td>\n",
       "      <td>Perempuan</td>\n",
       "      <td>3/13/2016 20:35</td>\n",
       "      <td>No</td>\n",
       "      <td>Surabaya</td>\n",
       "      <td>Jawa Timur</td>\n",
       "      <td>Electronic</td>\n",
       "    </tr>\n",
       "    <tr>\n",
       "      <th>3</th>\n",
       "      <td>3</td>\n",
       "      <td>74.15</td>\n",
       "      <td>29</td>\n",
       "      <td>383643260.0</td>\n",
       "      <td>245.89</td>\n",
       "      <td>Laki-Laki</td>\n",
       "      <td>1/10/2016 2:31</td>\n",
       "      <td>No</td>\n",
       "      <td>Batam</td>\n",
       "      <td>Kepulauan Riau</td>\n",
       "      <td>House</td>\n",
       "    </tr>\n",
       "    <tr>\n",
       "      <th>4</th>\n",
       "      <td>4</td>\n",
       "      <td>68.37</td>\n",
       "      <td>35</td>\n",
       "      <td>517229930.0</td>\n",
       "      <td>225.58</td>\n",
       "      <td>Perempuan</td>\n",
       "      <td>6/3/2016 3:36</td>\n",
       "      <td>No</td>\n",
       "      <td>Medan</td>\n",
       "      <td>Sumatra Utara</td>\n",
       "      <td>Finance</td>\n",
       "    </tr>\n",
       "    <tr>\n",
       "      <th>...</th>\n",
       "      <td>...</td>\n",
       "      <td>...</td>\n",
       "      <td>...</td>\n",
       "      <td>...</td>\n",
       "      <td>...</td>\n",
       "      <td>...</td>\n",
       "      <td>...</td>\n",
       "      <td>...</td>\n",
       "      <td>...</td>\n",
       "      <td>...</td>\n",
       "      <td>...</td>\n",
       "    </tr>\n",
       "    <tr>\n",
       "      <th>995</th>\n",
       "      <td>995</td>\n",
       "      <td>72.97</td>\n",
       "      <td>30</td>\n",
       "      <td>499691990.0</td>\n",
       "      <td>208.58</td>\n",
       "      <td>Laki-Laki</td>\n",
       "      <td>2/11/2016 21:49</td>\n",
       "      <td>Yes</td>\n",
       "      <td>Semarang</td>\n",
       "      <td>Jawa Tengah</td>\n",
       "      <td>Finance</td>\n",
       "    </tr>\n",
       "    <tr>\n",
       "      <th>996</th>\n",
       "      <td>996</td>\n",
       "      <td>51.30</td>\n",
       "      <td>45</td>\n",
       "      <td>474475190.0</td>\n",
       "      <td>134.42</td>\n",
       "      <td>Laki-Laki</td>\n",
       "      <td>4/22/2016 2:07</td>\n",
       "      <td>Yes</td>\n",
       "      <td>Pakanbaru</td>\n",
       "      <td>Riau</td>\n",
       "      <td>Electronic</td>\n",
       "    </tr>\n",
       "    <tr>\n",
       "      <th>997</th>\n",
       "      <td>997</td>\n",
       "      <td>NaN</td>\n",
       "      <td>51</td>\n",
       "      <td>296910040.0</td>\n",
       "      <td>120.37</td>\n",
       "      <td>Laki-Laki</td>\n",
       "      <td>2/1/2016 17:24</td>\n",
       "      <td>Yes</td>\n",
       "      <td>Samarinda</td>\n",
       "      <td>Kalimantan Timur</td>\n",
       "      <td>Travel</td>\n",
       "    </tr>\n",
       "    <tr>\n",
       "      <th>998</th>\n",
       "      <td>998</td>\n",
       "      <td>55.55</td>\n",
       "      <td>19</td>\n",
       "      <td>293445530.0</td>\n",
       "      <td>187.95</td>\n",
       "      <td>Perempuan</td>\n",
       "      <td>3/24/2016 2:35</td>\n",
       "      <td>No</td>\n",
       "      <td>Tangerang</td>\n",
       "      <td>Banten</td>\n",
       "      <td>Bank</td>\n",
       "    </tr>\n",
       "    <tr>\n",
       "      <th>999</th>\n",
       "      <td>999</td>\n",
       "      <td>45.01</td>\n",
       "      <td>26</td>\n",
       "      <td>209130600.0</td>\n",
       "      <td>178.35</td>\n",
       "      <td>Perempuan</td>\n",
       "      <td>6/3/2016 21:43</td>\n",
       "      <td>Yes</td>\n",
       "      <td>Serang</td>\n",
       "      <td>Banten</td>\n",
       "      <td>Travel</td>\n",
       "    </tr>\n",
       "  </tbody>\n",
       "</table>\n",
       "<p>1000 rows × 11 columns</p>\n",
       "</div>"
      ],
      "text/plain": [
       "     Unnamed: 0  Daily Time Spent on Site  Age  Area Income  \\\n",
       "0             0                     68.95   35  432837300.0   \n",
       "1             1                     80.23   31  479092950.0   \n",
       "2             2                     69.47   26  418501580.0   \n",
       "3             3                     74.15   29  383643260.0   \n",
       "4             4                     68.37   35  517229930.0   \n",
       "..          ...                       ...  ...          ...   \n",
       "995         995                     72.97   30  499691990.0   \n",
       "996         996                     51.30   45  474475190.0   \n",
       "997         997                       NaN   51  296910040.0   \n",
       "998         998                     55.55   19  293445530.0   \n",
       "999         999                     45.01   26  209130600.0   \n",
       "\n",
       "     Daily Internet Usage       Male        Timestamp Clicked on Ad  \\\n",
       "0                  256.09  Perempuan   3/27/2016 0:53            No   \n",
       "1                  193.77  Laki-Laki    4/4/2016 1:39            No   \n",
       "2                  236.50  Perempuan  3/13/2016 20:35            No   \n",
       "3                  245.89  Laki-Laki   1/10/2016 2:31            No   \n",
       "4                  225.58  Perempuan    6/3/2016 3:36            No   \n",
       "..                    ...        ...              ...           ...   \n",
       "995                208.58  Laki-Laki  2/11/2016 21:49           Yes   \n",
       "996                134.42  Laki-Laki   4/22/2016 2:07           Yes   \n",
       "997                120.37  Laki-Laki   2/1/2016 17:24           Yes   \n",
       "998                187.95  Perempuan   3/24/2016 2:35            No   \n",
       "999                178.35  Perempuan   6/3/2016 21:43           Yes   \n",
       "\n",
       "              city                       province    category  \n",
       "0    Jakarta Timur  Daerah Khusus Ibukota Jakarta   Furniture  \n",
       "1         Denpasar                           Bali        Food  \n",
       "2         Surabaya                     Jawa Timur  Electronic  \n",
       "3            Batam                 Kepulauan Riau       House  \n",
       "4            Medan                  Sumatra Utara     Finance  \n",
       "..             ...                            ...         ...  \n",
       "995       Semarang                    Jawa Tengah     Finance  \n",
       "996      Pakanbaru                           Riau  Electronic  \n",
       "997      Samarinda               Kalimantan Timur      Travel  \n",
       "998      Tangerang                         Banten        Bank  \n",
       "999         Serang                         Banten      Travel  \n",
       "\n",
       "[1000 rows x 11 columns]"
      ]
     },
     "execution_count": 1,
     "metadata": {},
     "output_type": "execute_result"
    }
   ],
   "source": [
    "import pandas as pd \n",
    "import numpy as np \n",
    "import random\n",
    "df = pd.read_csv('Clicked Ads Dataset.csv')\n",
    "df"
   ]
  },
  {
   "cell_type": "code",
   "execution_count": 2,
   "id": "a63d1531",
   "metadata": {},
   "outputs": [],
   "source": [
    "df=df.drop('Unnamed: 0',axis=1)"
   ]
  },
  {
   "cell_type": "code",
   "execution_count": 26,
   "id": "3d1fd9c9",
   "metadata": {},
   "outputs": [
    {
     "data": {
      "text/plain": [
       "Index(['Daily Time Spent on Site', 'Age', 'Area Income',\n",
       "       'Daily Internet Usage', 'Male', 'Timestamp', 'Clicked on Ad', 'city',\n",
       "       'province', 'category'],\n",
       "      dtype='object')"
      ]
     },
     "execution_count": 26,
     "metadata": {},
     "output_type": "execute_result"
    }
   ],
   "source": [
    "df.columns"
   ]
  },
  {
   "cell_type": "code",
   "execution_count": 3,
   "id": "f96623ba",
   "metadata": {
    "scrolled": true
   },
   "outputs": [
    {
     "data": {
      "text/plain": [
       "Daily Time Spent on Site    13\n",
       "Age                          0\n",
       "Area Income                 13\n",
       "Daily Internet Usage        11\n",
       "Male                         3\n",
       "Timestamp                    0\n",
       "Clicked on Ad                0\n",
       "city                         0\n",
       "province                     0\n",
       "category                     0\n",
       "dtype: int64"
      ]
     },
     "execution_count": 3,
     "metadata": {},
     "output_type": "execute_result"
    }
   ],
   "source": [
    "df.isnull().sum()"
   ]
  },
  {
   "cell_type": "code",
   "execution_count": 4,
   "id": "0c525185",
   "metadata": {},
   "outputs": [
    {
     "data": {
      "text/plain": [
       "Daily Time Spent on Site    0\n",
       "Age                         0\n",
       "Area Income                 0\n",
       "Daily Internet Usage        0\n",
       "Male                        0\n",
       "Timestamp                   0\n",
       "Clicked on Ad               0\n",
       "city                        0\n",
       "province                    0\n",
       "category                    0\n",
       "dtype: int64"
      ]
     },
     "execution_count": 4,
     "metadata": {},
     "output_type": "execute_result"
    }
   ],
   "source": [
    "df['Daily Time Spent on Site'] = df['Daily Time Spent on Site'].fillna(df['Daily Time Spent on Site'].mean())\n",
    "df['Area Income'] = df['Area Income'].fillna(df['Area Income'].mean())\n",
    "df['Daily Internet Usage'] = df['Daily Internet Usage'].fillna(df['Daily Internet Usage'].mean())\n",
    "df['Male'] = df['Male'].fillna(df['Male'].mode()[0])\n",
    "df.isnull().sum()\n"
   ]
  },
  {
   "cell_type": "code",
   "execution_count": 5,
   "id": "1688a579",
   "metadata": {
    "scrolled": false
   },
   "outputs": [
    {
     "data": {
      "text/html": [
       "<div>\n",
       "<style scoped>\n",
       "    .dataframe tbody tr th:only-of-type {\n",
       "        vertical-align: middle;\n",
       "    }\n",
       "\n",
       "    .dataframe tbody tr th {\n",
       "        vertical-align: top;\n",
       "    }\n",
       "\n",
       "    .dataframe thead th {\n",
       "        text-align: right;\n",
       "    }\n",
       "</style>\n",
       "<table border=\"1\" class=\"dataframe\">\n",
       "  <thead>\n",
       "    <tr style=\"text-align: right;\">\n",
       "      <th></th>\n",
       "      <th>Daily Time Spent on Site</th>\n",
       "      <th>Age</th>\n",
       "      <th>Area Income</th>\n",
       "      <th>Daily Internet Usage</th>\n",
       "    </tr>\n",
       "  </thead>\n",
       "  <tbody>\n",
       "    <tr>\n",
       "      <th>count</th>\n",
       "      <td>1000.000000</td>\n",
       "      <td>1000.000000</td>\n",
       "      <td>1.000000e+03</td>\n",
       "      <td>1000.000000</td>\n",
       "    </tr>\n",
       "    <tr>\n",
       "      <th>mean</th>\n",
       "      <td>64.929524</td>\n",
       "      <td>36.009000</td>\n",
       "      <td>3.848647e+08</td>\n",
       "      <td>179.863620</td>\n",
       "    </tr>\n",
       "    <tr>\n",
       "      <th>std</th>\n",
       "      <td>15.741268</td>\n",
       "      <td>8.785562</td>\n",
       "      <td>9.346585e+07</td>\n",
       "      <td>43.627946</td>\n",
       "    </tr>\n",
       "    <tr>\n",
       "      <th>min</th>\n",
       "      <td>32.600000</td>\n",
       "      <td>19.000000</td>\n",
       "      <td>9.797550e+07</td>\n",
       "      <td>104.780000</td>\n",
       "    </tr>\n",
       "    <tr>\n",
       "      <th>25%</th>\n",
       "      <td>51.545000</td>\n",
       "      <td>29.000000</td>\n",
       "      <td>3.298201e+08</td>\n",
       "      <td>139.017500</td>\n",
       "    </tr>\n",
       "    <tr>\n",
       "      <th>50%</th>\n",
       "      <td>67.780000</td>\n",
       "      <td>35.000000</td>\n",
       "      <td>3.975088e+08</td>\n",
       "      <td>181.065000</td>\n",
       "    </tr>\n",
       "    <tr>\n",
       "      <th>75%</th>\n",
       "      <td>78.352500</td>\n",
       "      <td>42.000000</td>\n",
       "      <td>4.566932e+08</td>\n",
       "      <td>218.287500</td>\n",
       "    </tr>\n",
       "    <tr>\n",
       "      <th>max</th>\n",
       "      <td>91.430000</td>\n",
       "      <td>61.000000</td>\n",
       "      <td>5.563936e+08</td>\n",
       "      <td>267.010000</td>\n",
       "    </tr>\n",
       "  </tbody>\n",
       "</table>\n",
       "</div>"
      ],
      "text/plain": [
       "       Daily Time Spent on Site          Age   Area Income  \\\n",
       "count               1000.000000  1000.000000  1.000000e+03   \n",
       "mean                  64.929524    36.009000  3.848647e+08   \n",
       "std                   15.741268     8.785562  9.346585e+07   \n",
       "min                   32.600000    19.000000  9.797550e+07   \n",
       "25%                   51.545000    29.000000  3.298201e+08   \n",
       "50%                   67.780000    35.000000  3.975088e+08   \n",
       "75%                   78.352500    42.000000  4.566932e+08   \n",
       "max                   91.430000    61.000000  5.563936e+08   \n",
       "\n",
       "       Daily Internet Usage  \n",
       "count           1000.000000  \n",
       "mean             179.863620  \n",
       "std               43.627946  \n",
       "min              104.780000  \n",
       "25%              139.017500  \n",
       "50%              181.065000  \n",
       "75%              218.287500  \n",
       "max              267.010000  "
      ]
     },
     "execution_count": 5,
     "metadata": {},
     "output_type": "execute_result"
    }
   ],
   "source": [
    "df.describe()"
   ]
  },
  {
   "cell_type": "code",
   "execution_count": 6,
   "id": "824780a7",
   "metadata": {
    "scrolled": false
   },
   "outputs": [
    {
     "data": {
      "text/plain": [
       "Daily Time Spent on Site    float64\n",
       "Age                           int64\n",
       "Area Income                 float64\n",
       "Daily Internet Usage        float64\n",
       "Male                         object\n",
       "Timestamp                    object\n",
       "Clicked on Ad                object\n",
       "city                         object\n",
       "province                     object\n",
       "category                     object\n",
       "dtype: object"
      ]
     },
     "execution_count": 6,
     "metadata": {},
     "output_type": "execute_result"
    }
   ],
   "source": [
    "df.dtypes\n"
   ]
  },
  {
   "cell_type": "code",
   "execution_count": 7,
   "id": "6b48ae24",
   "metadata": {},
   "outputs": [
    {
     "name": "stdout",
     "output_type": "stream",
     "text": [
      "No     500\n",
      "Yes    500\n",
      "Name: Clicked on Ad, dtype: int64\n",
      "Perempuan    521\n",
      "Laki-Laki    479\n",
      "Name: Male, dtype: int64\n",
      "Otomotif      112\n",
      "House         109\n",
      "Health        104\n",
      "Fashion       102\n",
      "Food           99\n",
      "Furniture      98\n",
      "Travel         98\n",
      "Electronic     97\n",
      "Finance        91\n",
      "Bank           90\n",
      "Name: category, dtype: int64\n"
     ]
    }
   ],
   "source": [
    "print(df['Clicked on Ad'].value_counts())\n",
    "print(df['Male'].value_counts())\n",
    "print(df['category'].value_counts())"
   ]
  },
  {
   "cell_type": "markdown",
   "id": "ba21be8e",
   "metadata": {},
   "source": [
    "### Define the multi-armed bandit (MAB) problem in the context of ad optimization, considering how an agent selects among multiple ads to maximize clicks."
   ]
  },
  {
   "cell_type": "markdown",
   "id": "2e798810",
   "metadata": {},
   "source": [
    "In ad optimization, the MAB problem involves selecting among multiple ads to maximize the number of clicks. Each ad acts like an arm where the agent receives a reward (either a click or no-click). The agent needs to decide which ad to show at each time step to maximize long-term rewards."
   ]
  },
  {
   "cell_type": "markdown",
   "id": "f60d2442",
   "metadata": {},
   "source": [
    "### How does the exploration-exploitation trade-off influence decision-making in this scenario?"
   ]
  },
  {
   "cell_type": "markdown",
   "id": "cec3f2c0",
   "metadata": {},
   "source": [
    "Exploration means trying different ads to check their click-through rates, while exploitation involves selecting the ad that has shown the best performance so far, ensuring immediate rewards. The trade-off is about balancing these two to optimize click-through rates.\n",
    "\n",
    "\n",
    "\n",
    "\n",
    "\n",
    "\n",
    "\n",
    "\n"
   ]
  },
  {
   "cell_type": "markdown",
   "id": "2c592857",
   "metadata": {},
   "source": [
    "### Implement the ε-greedy algorithm to optimize ad selection and compute the total rewards after 2000-time steps for:ε = 0.05 and ε = 0.2"
   ]
  },
  {
   "cell_type": "code",
   "execution_count": 8,
   "id": "0f23a0cf",
   "metadata": {},
   "outputs": [],
   "source": [
    "df['Clicked on Ad'] = df['Clicked on Ad'].map({'Yes': 1, 'No': 0})"
   ]
  },
  {
   "cell_type": "code",
   "execution_count": 9,
   "id": "b6836541",
   "metadata": {},
   "outputs": [],
   "source": [
    "ads = df['category'].unique() \n",
    "n_ads = len(ads) "
   ]
  },
  {
   "cell_type": "code",
   "execution_count": 20,
   "id": "238c11b7",
   "metadata": {},
   "outputs": [
    {
     "name": "stdout",
     "output_type": "stream",
     "text": [
      "Total Rewards for ε-Greedy (ε=0.05): 1017\n",
      "Total Rewards for ε-Greedy (ε=0.2): 977\n"
     ]
    }
   ],
   "source": [
    "# Function to simulate ε-Greedy action\n",
    "def epsilon_greedy_action(Q_values, epsilon):\n",
    "    if np.random.rand() < epsilon:\n",
    "        # Exploration: Randomly choose an action\n",
    "        return np.random.choice(len(Q_values))\n",
    "    else:\n",
    "        # Exploitation: Choose the action with the highest Q-value\n",
    "        return np.argmax(Q_values)\n",
    "\n",
    "# Function to simulate the MAB problem for 2000 steps\n",
    "def run_multi_armed_bandit(df, epsilon, c, total_steps):\n",
    "    num_ads = len(df['category'].unique())  # The number of unique ad categories\n",
    "    \n",
    "    # Initialize action values and counts\n",
    "    Q_values = np.zeros(num_ads)\n",
    "    action_counts = np.zeros(num_ads)\n",
    "    \n",
    "    total_rewards = 0\n",
    "    \n",
    "    for step in range(total_steps):\n",
    "        # Choose action using ε-Greedy strategy\n",
    "        action = epsilon_greedy_action(Q_values, epsilon)\n",
    "        \n",
    "        # Randomly select a row to simulate user interaction\n",
    "        row_index = np.random.randint(len(df))  # Randomly pick a row\n",
    "        \n",
    "        # Get the ad category for the selected row\n",
    "        ad_category = df.iloc[row_index]['category']\n",
    "        \n",
    "        # Get the reward from the chosen action (1 for click, 0 for no-click)\n",
    "        reward = df.iloc[row_index]['Clicked on Ad']\n",
    "        \n",
    "        # Update action values and counts\n",
    "        action_counts[action] += 1\n",
    "        Q_values[action] += (reward - Q_values[action]) / action_counts[action]\n",
    "        \n",
    "        # Update total rewards\n",
    "        total_rewards += reward\n",
    "    \n",
    "    return total_rewards\n",
    "\n",
    "# Set parameters\n",
    "epsilon_values = [0.05, 0.2]\n",
    "c_value = 2\n",
    "total_steps = 2000\n",
    "\n",
    "# Run simulations for ε-Greedy with different ε values (single 2000-step run)\n",
    "for epsilon in epsilon_values:\n",
    "    avg_total_rewards_epsilon = run_multi_armed_bandit(df, epsilon, c_value, total_steps)\n",
    "    print(f\"Total Rewards for ε-Greedy (ε={epsilon}): {avg_total_rewards_epsilon}\")"
   ]
  },
  {
   "cell_type": "markdown",
   "id": "77889c5d",
   "metadata": {},
   "source": [
    "### Compare the effect of different ε values on total rewards and action selection."
   ]
  },
  {
   "cell_type": "markdown",
   "id": "9acf9d84",
   "metadata": {},
   "source": [
    "The results show that ε=0.2 (more exploration) yields slightly higher total rewards (1017) compared to ε=0.05 (977). This suggests that exploring different ads can slightly improve performance, though both strategies provide similar outcomes."
   ]
  },
  {
   "cell_type": "markdown",
   "id": "300ff2a7",
   "metadata": {},
   "source": [
    "### Implement the UCB method with an exploration factor c = 2.0 and compute total rewards after 2000-time steps"
   ]
  },
  {
   "cell_type": "code",
   "execution_count": 23,
   "id": "985aca7a",
   "metadata": {},
   "outputs": [
    {
     "name": "stdout",
     "output_type": "stream",
     "text": [
      "Total Rewards for UCB (c=2.0): 987\n"
     ]
    }
   ],
   "source": [
    "# Function to simulate UCB action\n",
    "def ucb_action(Q_values, action_counts, c):\n",
    "    # Calculate upper confidence bounds for each action\n",
    "    total_actions = np.sum(action_counts)\n",
    "    ucb_values = Q_values + c * np.sqrt(np.log(total_actions + 1) / (action_counts + 1))\n",
    "    \n",
    "    # Choose the action with the highest UCB value\n",
    "    return np.argmax(ucb_values)\n",
    "\n",
    "# Function to simulate the MAB problem for 2000 steps with UCB\n",
    "def run_multi_armed_bandit_ucb(df, c, total_steps):\n",
    "    num_ads = len(df['category'].unique())  # The number of unique ad categories\n",
    "    \n",
    "    # Initialize action values and counts\n",
    "    Q_values = np.zeros(num_ads)\n",
    "    action_counts = np.zeros(num_ads)\n",
    "    \n",
    "    total_rewards = 0\n",
    "    \n",
    "    for step in range(total_steps):\n",
    "        # Choose action using UCB strategy\n",
    "        action = ucb_action(Q_values, action_counts, c)\n",
    "        \n",
    "        # Randomly select a row to simulate user interaction\n",
    "        row_index = np.random.randint(len(df))  # Randomly pick a row\n",
    "        \n",
    "        # Get the ad category for the selected row\n",
    "        ad_category = df.iloc[row_index]['category']\n",
    "        \n",
    "        # Get the reward from the chosen action (1 for click, 0 for no-click)\n",
    "        reward = df.iloc[row_index]['Clicked on Ad']\n",
    "        \n",
    "        # Update action values and counts\n",
    "        action_counts[action] += 1\n",
    "        Q_values[action] += (reward - Q_values[action]) / action_counts[action]\n",
    "        \n",
    "        # Update total rewards\n",
    "        total_rewards += reward\n",
    "    \n",
    "    return total_rewards\n",
    "\n",
    "# Set parameters\n",
    "c_value = 2.0\n",
    "total_steps = 2000\n",
    "\n",
    "# Run UCB simulation\n",
    "total_rewards_ucb = run_multi_armed_bandit_ucb(df, c_value, total_steps)\n",
    "print(f\"Total Rewards for UCB (c={c_value}): {total_rewards_ucb}\")"
   ]
  },
  {
   "cell_type": "markdown",
   "id": "a89da98e",
   "metadata": {},
   "source": [
    "### How does increasing or decreasing the exploration factor c affect the performance?"
   ]
  },
  {
   "cell_type": "markdown",
   "id": "150f6bdc",
   "metadata": {},
   "source": [
    "Increasing c increases exploration, which may uncover better actions but risks suboptimal choices if too high. Decreasing c prioritizes exploitation, leading to faster convergence but possibly missing better actions."
   ]
  },
  {
   "cell_type": "markdown",
   "id": "6b1254dc",
   "metadata": {},
   "source": [
    "### Analyze how the estimated action values (Q-values) compare to the actual optimal action in both ε-greedy and UCB methods."
   ]
  },
  {
   "cell_type": "markdown",
   "id": "3fe4cb69",
   "metadata": {},
   "source": [
    "For both the ε-greedy and UCB approaches, the action value serves as an estimate of how good each action is based on the data collected during the experiment, while the optimal action is the one with the highest true expected reward."
   ]
  },
  {
   "cell_type": "markdown",
   "id": "912c1357",
   "metadata": {},
   "source": [
    "### Which approach leads to a better approximation of the optimal action?"
   ]
  },
  {
   "cell_type": "markdown",
   "id": "b540683a",
   "metadata": {},
   "source": [
    "UCB outperforms ε-greedy in approximating the optimal action due to its effective balance between exploration and exploitation."
   ]
  },
  {
   "cell_type": "markdown",
   "id": "3d7f1797",
   "metadata": {},
   "source": [
    "### Evaluate how the performance of ε-greedy and UCB changes when the time horizon is extended to 5000-time steps instead of 2000-time steps"
   ]
  },
  {
   "cell_type": "code",
   "execution_count": 28,
   "id": "9262bf9c",
   "metadata": {},
   "outputs": [
    {
     "name": "stdout",
     "output_type": "stream",
     "text": [
      "Total Rewards for ε-Greedy (ε=0.05) after 5000 steps: 2497\n",
      "Total Rewards for ε-Greedy (ε=0.2) after 5000 steps: 2533\n",
      "Total Rewards for UCB (c=2.0) after 5000 steps: 2475\n"
     ]
    }
   ],
   "source": [
    "epsilon_values = [0.05,0.2]\n",
    "c_value = 2.0  # UCB exploration factor\n",
    "total_steps = 5000  # Time horizon set to 5000 steps\n",
    "\n",
    "for epsilon in epsilon_values:\n",
    "    total_rewards_epsilon = run_multi_armed_bandit(df, epsilon, c_value, total_steps)\n",
    "    print(f\"Total Rewards for ε-Greedy (ε={epsilon}) after 5000 steps: {total_rewards_epsilon}\")\n",
    "\n",
    "total_rewards_ucb = run_multi_armed_bandit_ucb(df, c_value, total_steps)\n",
    "print(f\"Total Rewards for UCB (c={c_value}) after 5000 steps: {total_rewards_ucb}\")\n"
   ]
  },
  {
   "cell_type": "markdown",
   "id": "3d6912a4",
   "metadata": {},
   "source": [
    "When the time horizon was extended to 5000 steps, UCB outperformed both ε-Greedy strategies, achieving 2497 total rewards. The ε-Greedy with ε=0.2 slightly improved to 2533, showing that a higher exploration rate helped it perform better than ε=0.05 (2533). UCB's adaptive exploration strategy allowed it to more effectively balance exploration and exploitation, leading to the highest reward."
   ]
  },
  {
   "cell_type": "markdown",
   "id": "8dca2aba",
   "metadata": {},
   "source": [
    "### Does a longer time horizon reduce the impact of exploration parameters (ε or c) on total rewards?"
   ]
  },
  {
   "cell_type": "markdown",
   "id": "48ca7616",
   "metadata": {},
   "source": [
    "With a longer time horizon, the impact of exploration parameters (ε or c) lessens as the algorithms have more time to explore and converge toward the optimal action, reducing the need for exploration."
   ]
  },
  {
   "cell_type": "markdown",
   "id": "894019bf",
   "metadata": {},
   "source": [
    "References:\n",
    "https://www.kaggle.com/code/ruslankl/how-to-deal-with-multi-armed-bandit-problem\n",
    "https://www.kaggle.com/code/vingkan/multi-armed-bandit"
   ]
  },
  {
   "cell_type": "code",
   "execution_count": null,
   "id": "38e9fb37",
   "metadata": {},
   "outputs": [],
   "source": []
  }
 ],
 "metadata": {
  "kernelspec": {
   "display_name": "Python 3 (ipykernel)",
   "language": "python",
   "name": "python3"
  },
  "language_info": {
   "codemirror_mode": {
    "name": "ipython",
    "version": 3
   },
   "file_extension": ".py",
   "mimetype": "text/x-python",
   "name": "python",
   "nbconvert_exporter": "python",
   "pygments_lexer": "ipython3",
   "version": "3.9.12"
  }
 },
 "nbformat": 4,
 "nbformat_minor": 5
}
